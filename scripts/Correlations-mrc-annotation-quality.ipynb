{
 "cells": [
  {
   "cell_type": "markdown",
   "metadata": {},
   "source": [
    "# Is there a correlation between annotation quality and lexical data?\n",
    "\n",
    "To investigate:\n",
    "\n",
    "* MRC familiarity\n",
    "* Polysemy types\n",
    "\n",
    "Annotation quality measured by:\n",
    "\n",
    "* performance on expert annotations\n",
    "* agreement \n",
    "* contradiction rate\n",
    "\n",
    "\n",
    "**To do**\n",
    "\n",
    "* Find aggregated labels for evaluation and comparison\n",
    "* Measure average and std ratings for correct and incorrect\n",
    "* Count polysemy type for correct and incorrect/expected and unexpected agreement\n",
    "\n",
    "\n",
    "Aggregated labels (relations): ../aggregated_labels/run-all--group_experiment-all--batch-all--cleaned_contradictions_batch_0.5-vote_majority_vote-relations.csv\n",
    "\n",
    "\n",
    "Aggregated labels (levels): ../aggregated_labels/run-all--group_experiment-all--batch-all--cleaned_contradictions_batch_0.5-vote_majority_vote-levels.csv"
   ]
  },
  {
   "cell_type": "code",
   "execution_count": 1,
   "metadata": {},
   "outputs": [],
   "source": [
    "from utils_data import load_experiment_data, load_gold_data\n",
    "from calculate_iaa import get_agreement\n",
    "from utils_analysis import sort_by_key\n",
    "\n",
    "from sklearn.metrics import precision_recall_fscore_support as p_r_f1\n",
    "import csv\n",
    "from collections import defaultdict, Counter\n",
    "from statistics import stdev\n",
    "from scipy.stats import spearmanr\n",
    "\n",
    "# progress bar\n",
    "from tqdm import tqdm"
   ]
  },
  {
   "cell_type": "code",
   "execution_count": 30,
   "metadata": {},
   "outputs": [],
   "source": [
    "def load_aggregated_labels(category='relations'):\n",
    "    \n",
    "    agg_dir = '../aggregated_labels/'\n",
    "    exp = 'run-all--group_experiment-all--batch-all'\n",
    "    path = f'{agg_dir}/{exp}--cleaned_contradictions_batch_0.5-vote_majority_vote-{category}.csv'\n",
    "    with open(path) as infile:\n",
    "        dicts = list(csv.DictReader(infile))\n",
    "    return dicts\n",
    "\n",
    "\n",
    "def load_lexical_data():\n",
    "    # this is what we originally sampled from\n",
    "    path = '../data_lexical_info/vocab/all_lodce_mrc.csv'\n",
    "    \n",
    "    with open(path) as infile:\n",
    "        dicts = list(csv.DictReader(infile))\n",
    "    word_info_dict = sort_by_key(dicts, ['word'])\n",
    "    return word_info_dict\n",
    "\n",
    "def get_outcome_dict(gold, agg_dict):\n",
    "    outcome_dict = defaultdict(set)\n",
    "    c = 0\n",
    "    keys = ['relation', 'property', 'concept']\n",
    "    for d in gold:\n",
    "        triple = '-'.join([d[k] for k in keys])\n",
    "        agg_info = agg_dict[triple.strip()]\n",
    "        assert len(agg_info) == 1, 'too many values'\n",
    "        agg_info = agg_info[0]\n",
    "        label = agg_info['majority_vote'].lower()\n",
    "        gold_label = d['answer']\n",
    "        if gold_label != 'NOGOLD':\n",
    "            concept = agg_info['concept']\n",
    "            if label == gold_label:\n",
    "                outcome_dict['correct'].add(concept)\n",
    "            else:\n",
    "                outcome_dict['incorrect'].add(concept)\n",
    "\n",
    "    for l, concepts in outcome_dict.items():\n",
    "        print(l, len(concepts))\n",
    "    return outcome_dict\n",
    "        \n",
    "def get_lexical_info(concepts, word_info_dict, info='fam'):\n",
    "    concept_value_dict = dict()\n",
    "    no_rating = []\n",
    "    for c in concepts:\n",
    "        c = c.strip()\n",
    "        if c in word_info_dict:\n",
    "            info_dict = word_info_dict[c][0]\n",
    "            value = info_dict[info]\n",
    "            if value.isdigit():\n",
    "                concept_value_dict[c] = float(value)\n",
    "            elif value != '':\n",
    "                concept_value_dict[c] = value  \n",
    "            else:\n",
    "                no_rating.append(c)\n",
    "        else:\n",
    "            print(c, 'not found')\n",
    "    print(f'No value for {len(no_rating)} out of {len(concepts)}: {no_rating}')\n",
    "    return concept_value_dict\n",
    "\n",
    "def get_av_ratings(outcome_dict, word_info_dict, info):\n",
    "    \n",
    "    result = dict()\n",
    "    for outcome, concepts in outcome_dict.items():\n",
    "        concept_value_dict = get_lexical_info(concepts, word_info_dict, info=info)\n",
    "        #print(len(concept_value_dict))\n",
    "        sum_values = sum(concept_value_dict.values())\n",
    "        if sum_values > 0:\n",
    "            av = sum_values/len(concept_value_dict)\n",
    "        else:\n",
    "            av = None\n",
    "        if len(concept_value_dict) > 1:\n",
    "            sd = stdev(concept_value_dict.values())\n",
    "        else:\n",
    "            sd = None\n",
    "        result[outcome] = dict()\n",
    "        result[outcome]['av'] = av\n",
    "        result[outcome]['stdv'] = sd\n",
    "        result[outcome]['n_concepts'] = len(concept_value_dict)\n",
    "    return result\n",
    "\n",
    "\n",
    "def get_polysemy_type_count(outcome_dict, word_info_dict):\n",
    "    result = dict()\n",
    "    for outcome, concepts in outcome_dict.items():\n",
    "        concept_value_dict = get_lexical_info(concepts, word_info_dict, info='polysemy_type')\n",
    "        poly_type_counter = Counter(concept_value_dict.values())\n",
    "        result[outcome] = poly_type_counter\n",
    "    return result\n",
    "        \n",
    "\n",
    "def get_concept_agreement_dict(crowd, iaa_m = 'Proportional'):\n",
    "    concept_agreement_dict = defaultdict(list)\n",
    "    data_by_triple = sort_by_key(crowd, ['relation', 'property', 'concept'])\n",
    "\n",
    "    for t, data in tqdm(data_by_triple.items()):\n",
    "        concepts = set([d['concept'] for d in data])\n",
    "        assert len(concepts) == 1, 'More than one concept detected'\n",
    "        concept = data[0]['concept']\n",
    "        iaa = get_agreement(data, v = False)[iaa_m]\n",
    "        concept_agreement_dict[concept].append(iaa)\n",
    "    return concept_agreement_dict\n",
    "\n",
    "\n",
    "def get_ratings_agreement(concept_agreement_dict, word_info_dict, rating_type = 'fam'):\n",
    "\n",
    "    ratings = []\n",
    "    agreements = []\n",
    "    sds = []\n",
    "    for c, ag in concept_agreement_dict.items():\n",
    "        av_ag = sum(ag)/len(ag)\n",
    "        if len(ag) > 1:\n",
    "            sd = stdev(ag)\n",
    "        else:\n",
    "            sd = None\n",
    "        if c in word_info_dict:\n",
    "            value = word_info_dict[c][0][rating_type]\n",
    "            if value.isdigit():\n",
    "                rating = float(value) \n",
    "            elif value != '':\n",
    "                rating = value\n",
    "            else:\n",
    "                rating = None\n",
    "            if rating:\n",
    "                ratings.append(rating)\n",
    "                agreements.append(av_ag)\n",
    "    return ratings, agreements"
   ]
  },
  {
   "cell_type": "code",
   "execution_count": 11,
   "metadata": {},
   "outputs": [
    {
     "name": "stdout",
     "output_type": "stream",
     "text": [
      "Discarded 655.0 annotations.\n"
     ]
    }
   ],
   "source": [
    "# load crowd:\n",
    "run = '*'\n",
    "group = 'experiment*'\n",
    "n_q = '*'\n",
    "batch = '*'\n",
    "crowd = load_experiment_data(run, group, n_q, batch)"
   ]
  },
  {
   "cell_type": "code",
   "execution_count": 5,
   "metadata": {},
   "outputs": [
    {
     "name": "stderr",
     "output_type": "stream",
     "text": [
      "/Users/piasommerauer/opt/anaconda3/lib/python3.8/site-packages/sklearn/metrics/_classification.py:620: RuntimeWarning: invalid value encountered in true_divide\n",
      "  k = np.sum(w_mat * confusion) / np.sum(w_mat * expected)\n"
     ]
    },
    {
     "name": "stdout",
     "output_type": "stream",
     "text": [
      "Krippendorff's alpha: 0.3318404604764501\n",
      "Average Cohen's Kappa (pairwise): 0.3152848933711451\n",
      "Proportional agreement (pairwise): 0.6743882516665843\n",
      "\n"
     ]
    }
   ],
   "source": [
    "# test iaa\n",
    "iaa = get_agreement(crowd)"
   ]
  },
  {
   "cell_type": "code",
   "execution_count": 12,
   "metadata": {},
   "outputs": [],
   "source": [
    "# load aggregated labels\n",
    "agg = load_aggregated_labels()\n",
    "agg_dict = sort_by_key(agg, ['relation', 'property', 'concept'])"
   ]
  },
  {
   "cell_type": "code",
   "execution_count": 39,
   "metadata": {},
   "outputs": [
    {
     "name": "stdout",
     "output_type": "stream",
     "text": [
      "True\n"
     ]
    }
   ],
   "source": [
    "# load lexical data\n",
    "\n",
    "word_info_dict = load_lexical_data()\n",
    "check = [(len(v)== 1) for k, v in word_info_dict.items()]\n",
    "print(all(check))"
   ]
  },
  {
   "cell_type": "code",
   "execution_count": 40,
   "metadata": {},
   "outputs": [
    {
     "data": {
      "text/plain": [
       "[{'quid': 'impossible-shovel-roll',\n",
       "  'relation': 'impossible',\n",
       "  'property': 'roll',\n",
       "  'concept': 'shovel',\n",
       "  'answer': 'false',\n",
       "  'expected_agreement': 'disagreement',\n",
       "  'disagreement_cnt': 4,\n",
       "  'workerid': 'gold',\n",
       "  'completionurl': 'gold'},\n",
       " {'quid': 'unusual-carrot-red',\n",
       "  'relation': 'unusual',\n",
       "  'property': 'red',\n",
       "  'concept': 'carrot',\n",
       "  'answer': 'NOGOLD',\n",
       "  'expected_agreement': 'disagreement',\n",
       "  'disagreement_cnt': 5,\n",
       "  'workerid': 'gold',\n",
       "  'completionurl': 'gold'}]"
      ]
     },
     "execution_count": 40,
     "metadata": {},
     "output_type": "execute_result"
    }
   ],
   "source": [
    "# load gold\n",
    "gold = load_gold_data()\n",
    "gold[:2]"
   ]
  },
  {
   "cell_type": "markdown",
   "metadata": {},
   "source": [
    "## 1.) Evaluate against correct vs incorrect labels based on gold standard"
   ]
  },
  {
   "cell_type": "code",
   "execution_count": 41,
   "metadata": {},
   "outputs": [
    {
     "name": "stdout",
     "output_type": "stream",
     "text": [
      "154\n",
      "correct 18\n",
      "incorrect 12\n"
     ]
    }
   ],
   "source": [
    "# Get correct vs incorrect\n",
    "    \n",
    "print(len(gold))\n",
    "outcome_dict = get_outcome_dict(gold, agg_dict)"
   ]
  },
  {
   "cell_type": "code",
   "execution_count": 42,
   "metadata": {},
   "outputs": [
    {
     "name": "stdout",
     "output_type": "stream",
     "text": [
      "No value for 7 out of 18: ['buttercup', 'washer', 'recliner', 'acaridae', 'rhino', 'freebooter', 'stock']\n",
      "No value for 6 out of 12: ['buttercup', 'washer', 'recliner', 'acaridae', 'rhino', 'freebooter']\n",
      "correct {'av': 482.72727272727275, 'stdv': 117.3942851327022, 'n_concepts': 11}\n",
      "incorrect {'av': 537.6666666666666, 'stdv': 27.7320512524167, 'n_concepts': 6}\n"
     ]
    }
   ],
   "source": [
    "info = 'fam'\n",
    "result = get_av_ratings(outcome_dict, word_info_dict, info)\n",
    "for l, resdict in result.items():\n",
    "    print(l, resdict)"
   ]
  },
  {
   "cell_type": "code",
   "execution_count": 43,
   "metadata": {},
   "outputs": [
    {
     "name": "stdout",
     "output_type": "stream",
     "text": [
      "No value for 7 out of 18: ['buttercup', 'washer', 'recliner', 'acaridae', 'rhino', 'freebooter', 'stock']\n",
      "No value for 6 out of 12: ['buttercup', 'washer', 'recliner', 'acaridae', 'rhino', 'freebooter']\n",
      "correct {'av': 545.8181818181819, 'stdv': 112.41069182405931, 'n_concepts': 11}\n",
      "incorrect {'av': 565.8333333333334, 'stdv': 38.47813231780704, 'n_concepts': 6}\n"
     ]
    }
   ],
   "source": [
    "info = 'imag'\n",
    "result = get_av_ratings(outcome_dict, word_info_dict, info)\n",
    "for l, resdict in result.items():\n",
    "    print(l, resdict)"
   ]
  },
  {
   "cell_type": "code",
   "execution_count": 44,
   "metadata": {},
   "outputs": [
    {
     "name": "stdout",
     "output_type": "stream",
     "text": [
      "No value for 16 out of 18: ['carrot', 'buttercup', 'cruiser', 'plaice', 'washer', 'leopard', 'shovel', 'recliner', 'acaridae', 'pineapple', 'rhino', 'freebooter', 'tire', 'arrow', 'stock', 'pen']\n",
      "No value for 11 out of 12: ['carrot', 'buttercup', 'washer', 'pineapple', 'recliner', 'acaridae', 'shovel', 'rhino', 'freebooter', 'tire', 'pen']\n",
      "correct {'av': 332.0, 'stdv': 100.40916292848975, 'n_concepts': 2}\n",
      "incorrect {'av': 403.0, 'stdv': None, 'n_concepts': 1}\n"
     ]
    }
   ],
   "source": [
    "info = 'aoa'\n",
    "result = get_av_ratings(outcome_dict, word_info_dict, info)\n",
    "for l, resdict in result.items():\n",
    "    print(l, resdict)"
   ]
  },
  {
   "cell_type": "code",
   "execution_count": 47,
   "metadata": {},
   "outputs": [
    {
     "name": "stdout",
     "output_type": "stream",
     "text": [
      "No value for 7 out of 18: ['buttercup', 'washer', 'recliner', 'acaridae', 'rhino', 'freebooter', 'stock']\n",
      "No value for 6 out of 12: ['buttercup', 'washer', 'recliner', 'acaridae', 'rhino', 'freebooter']\n",
      "correct {'av': 571.4545454545455, 'stdv': 89.45877669224372, 'n_concepts': 11}\n",
      "incorrect {'av': 601.8333333333334, 'stdv': 35.45372570924904, 'n_concepts': 6}\n"
     ]
    }
   ],
   "source": [
    "info = 'conc'\n",
    "result = get_av_ratings(outcome_dict, word_info_dict, info)\n",
    "for l, resdict in result.items():\n",
    "    print(l, resdict)"
   ]
  },
  {
   "cell_type": "code",
   "execution_count": 48,
   "metadata": {},
   "outputs": [
    {
     "name": "stdout",
     "output_type": "stream",
     "text": [
      "No value for 0 out of 18: []\n",
      "No value for 0 out of 12: []\n",
      "correct {'av': 17407.277777777777, 'stdv': 28800.587432337423, 'n_concepts': 18}\n",
      "incorrect {'av': 10775.583333333334, 'stdv': 20855.596739390137, 'n_concepts': 12}\n"
     ]
    }
   ],
   "source": [
    "info = 'wiki_frequency'\n",
    "result = get_av_ratings(outcome_dict, word_info_dict, info)\n",
    "for l, resdict in result.items():\n",
    "    print(l, resdict)"
   ]
  },
  {
   "cell_type": "code",
   "execution_count": 50,
   "metadata": {},
   "outputs": [
    {
     "name": "stdout",
     "output_type": "stream",
     "text": [
      "No value for 3 out of 18: ['recliner', 'acaridae', 'rhino']\n",
      "No value for 3 out of 12: ['recliner', 'acaridae', 'rhino']\n",
      "correct 15\n",
      "---------\n",
      "poly 5 0.3333333333333333\n",
      "homonyms_only_different_pos 5 0.3333333333333333\n",
      "mon 4 0.26666666666666666\n",
      "homonyms_also_same_pos 1 0.06666666666666667\n",
      "\n",
      "incorrect 9\n",
      "---------\n",
      "poly 3 0.3333333333333333\n",
      "homonyms_only_different_pos 3 0.3333333333333333\n",
      "mon 2 0.2222222222222222\n",
      "homonyms_also_same_pos 1 0.1111111111111111\n",
      "\n"
     ]
    }
   ],
   "source": [
    "# polysemy\n",
    "\n",
    "result = get_polysemy_type_count(outcome_dict, word_info_dict)\n",
    "for l, resdict in result.items():\n",
    "    total = sum(resdict.values())\n",
    "    print(l, total)\n",
    "    print('---------')\n",
    "    for t, c in resdict.most_common():\n",
    "        print(t, c, c/total)\n",
    "    print()"
   ]
  },
  {
   "cell_type": "markdown",
   "metadata": {},
   "source": [
    "## 2.) Check if there is a correlation between agreement and scores\n",
    "\n"
   ]
  },
  {
   "cell_type": "code",
   "execution_count": 51,
   "metadata": {},
   "outputs": [
    {
     "name": "stderr",
     "output_type": "stream",
     "text": [
      "  0%|          | 0/17917 [00:00<?, ?it/s]/Users/piasommerauer/opt/anaconda3/lib/python3.8/site-packages/sklearn/metrics/_classification.py:620: RuntimeWarning: invalid value encountered in true_divide\n",
      "  k = np.sum(w_mat * confusion) / np.sum(w_mat * expected)\n",
      "100%|██████████| 17917/17917 [05:46<00:00, 51.75it/s]\n"
     ]
    }
   ],
   "source": [
    "\n",
    "concept_agreement_dict_krippendorff = get_concept_agreement_dict(crowd, iaa_m = 'Krippendorff')\n"
   ]
  },
  {
   "cell_type": "code",
   "execution_count": 52,
   "metadata": {},
   "outputs": [
    {
     "name": "stderr",
     "output_type": "stream",
     "text": [
      "100%|██████████| 17917/17917 [06:06<00:00, 48.89it/s]\n"
     ]
    }
   ],
   "source": [
    "concept_agreement_dict_prop = get_concept_agreement_dict(crowd, iaa_m = 'Proportional')"
   ]
  },
  {
   "cell_type": "code",
   "execution_count": 53,
   "metadata": {},
   "outputs": [
    {
     "name": "stdout",
     "output_type": "stream",
     "text": [
      "540 540 1317\n",
      "SpearmanrResult(correlation=-0.041178658718134996, pvalue=0.3395305264243659)\n",
      "SpearmanrResult(correlation=-0.011746238121894018, pvalue=0.7853646141389479)\n"
     ]
    }
   ],
   "source": [
    "# Familiarity\n",
    "rating_type = 'fam'\n",
    "ratings, agreements = get_ratings_agreement(concept_agreement_dict_prop, word_info_dict, rating_type = rating_type)\n",
    "print(len(ratings), len(agreements), len(concept_agreement_dict_prop))\n",
    "spear = spearmanr(ratings, agreements)\n",
    "print(spear)\n",
    "\n",
    "ratings, agreements = get_ratings_agreement(concept_agreement_dict_krippendorff, word_info_dict, rating_type = rating_type)\n",
    "spear = spearmanr(ratings, agreements)\n",
    "print(spear)"
   ]
  },
  {
   "cell_type": "code",
   "execution_count": 54,
   "metadata": {},
   "outputs": [
    {
     "name": "stdout",
     "output_type": "stream",
     "text": [
      "516 516 1317\n",
      "SpearmanrResult(correlation=0.020607244105233933, pvalue=0.640484887862392)\n",
      "SpearmanrResult(correlation=0.019089933399731078, pvalue=0.6652852646805701)\n"
     ]
    }
   ],
   "source": [
    "# Concreteness\n",
    "rating_type = 'conc'\n",
    "ratings, agreements = get_ratings_agreement(concept_agreement_dict_prop, word_info_dict, rating_type = rating_type)\n",
    "print(len(ratings), len(agreements), len(concept_agreement_dict_prop))\n",
    "spear = spearmanr(ratings, agreements)\n",
    "print(spear)\n",
    "\n",
    "ratings, agreements = get_ratings_agreement(concept_agreement_dict_krippendorff, word_info_dict, rating_type = rating_type)\n",
    "spear = spearmanr(ratings, agreements)\n",
    "print(spear)"
   ]
  },
  {
   "cell_type": "code",
   "execution_count": 55,
   "metadata": {},
   "outputs": [
    {
     "name": "stdout",
     "output_type": "stream",
     "text": [
      "247 247 1317\n",
      "SpearmanrResult(correlation=0.04734565567809899, pvalue=0.45885325838194546)\n",
      "SpearmanrResult(correlation=-0.011377984972510823, pvalue=0.8587875626466843)\n"
     ]
    }
   ],
   "source": [
    "# Age of acquisition\n",
    "rating_type = 'aoa'\n",
    "\n",
    "ratings, agreements = get_ratings_agreement(concept_agreement_dict_prop, word_info_dict, rating_type = rating_type)\n",
    "print(len(ratings), len(agreements), len(concept_agreement_dict_prop))\n",
    "spear = spearmanr(ratings, agreements)\n",
    "print(spear)\n",
    "\n",
    "ratings, agreements = get_ratings_agreement(concept_agreement_dict_krippendorff, word_info_dict, rating_type = rating_type)\n",
    "spear = spearmanr(ratings, agreements)\n",
    "print(spear)"
   ]
  },
  {
   "cell_type": "code",
   "execution_count": 56,
   "metadata": {},
   "outputs": [
    {
     "name": "stdout",
     "output_type": "stream",
     "text": [
      "518 518 1317\n",
      "SpearmanrResult(correlation=0.0865525024481382, pvalue=0.048971631146406555)\n",
      "SpearmanrResult(correlation=0.07398745880382133, pvalue=0.09253702943729658)\n"
     ]
    }
   ],
   "source": [
    "# imag\n",
    "rating_type = 'imag'\n",
    "\n",
    "ratings, agreements = get_ratings_agreement(concept_agreement_dict_prop, word_info_dict, rating_type = rating_type)\n",
    "print(len(ratings), len(agreements), len(concept_agreement_dict_prop))\n",
    "spear = spearmanr(ratings, agreements)\n",
    "print(spear)\n",
    "\n",
    "ratings, agreements = get_ratings_agreement(concept_agreement_dict_krippendorff, word_info_dict, rating_type = rating_type)\n",
    "spear = spearmanr(ratings, agreements)\n",
    "print(spear)"
   ]
  },
  {
   "cell_type": "code",
   "execution_count": 57,
   "metadata": {},
   "outputs": [
    {
     "name": "stdout",
     "output_type": "stream",
     "text": [
      "1298 1298 1317\n",
      "SpearmanrResult(correlation=0.03092789807077539, pvalue=0.26551266529519524)\n",
      "SpearmanrResult(correlation=-1.789438725001037e-05, pvalue=0.9994861035850755)\n"
     ]
    }
   ],
   "source": [
    "# Wiki frequency\n",
    "rating_type = 'wiki_frequency'\n",
    "\n",
    "ratings, agreements = get_ratings_agreement(concept_agreement_dict_prop, word_info_dict, rating_type = rating_type)\n",
    "print(len(ratings), len(agreements), len(concept_agreement_dict_prop))\n",
    "spear = spearmanr(ratings, agreements)\n",
    "print(spear)\n",
    "\n",
    "ratings, agreements = get_ratings_agreement(concept_agreement_dict_krippendorff, word_info_dict, rating_type = rating_type)\n",
    "spear = spearmanr(ratings, agreements)\n",
    "print(spear)"
   ]
  },
  {
   "cell_type": "code",
   "execution_count": 58,
   "metadata": {},
   "outputs": [
    {
     "name": "stdout",
     "output_type": "stream",
     "text": [
      "1024 1024 1317\n",
      "poly 0.682615581132293\n",
      "homonyms_also_same_pos 0.6822993776439703\n",
      "mon 0.6904455146699301\n",
      "homonyms_only_different_pos 0.6826598227289749\n"
     ]
    }
   ],
   "source": [
    "# Polysemy\n",
    "\n",
    "rating_type = 'polysemy_type'\n",
    "ratings, agreements = get_ratings_agreement(concept_agreement_dict_prop, word_info_dict, rating_type = rating_type)\n",
    "print(len(ratings), len(agreements), len(concept_agreement_dict_prop))\n",
    "polysemy_agreement = defaultdict(list)\n",
    "\n",
    "for r, a in zip(ratings, agreements):\n",
    "    polysemy_agreement[r].append(a)\n",
    "    \n",
    "for r, a in polysemy_agreement.items():\n",
    "    av_a = sum(a)/len(a)\n",
    "    print(r, av_a)\n"
   ]
  },
  {
   "cell_type": "code",
   "execution_count": 59,
   "metadata": {},
   "outputs": [
    {
     "name": "stdout",
     "output_type": "stream",
     "text": [
      "1024 1024 1317\n",
      "poly 0.2048169649560948\n",
      "homonyms_also_same_pos 0.21450596233026287\n",
      "mon 0.21948861129198657\n",
      "homonyms_only_different_pos 0.20457653550357413\n"
     ]
    }
   ],
   "source": [
    "# Polysemy\n",
    "\n",
    "rating_type = 'polysemy_type'\n",
    "ratings, agreements = get_ratings_agreement(concept_agreement_dict_krippendorff, word_info_dict, rating_type = rating_type)\n",
    "print(len(ratings), len(agreements), len(concept_agreement_dict_krippendorff))\n",
    "polysemy_agreement = defaultdict(list)\n",
    "\n",
    "for r, a in zip(ratings, agreements):\n",
    "    polysemy_agreement[r].append(a)\n",
    "    \n",
    "for r, a in polysemy_agreement.items():\n",
    "    av_a = sum(a)/len(a)\n",
    "    print(r, av_a)\n"
   ]
  },
  {
   "cell_type": "markdown",
   "metadata": {},
   "source": [
    "### What about the words we excluded?"
   ]
  },
  {
   "cell_type": "code",
   "execution_count": null,
   "metadata": {},
   "outputs": [],
   "source": []
  }
 ],
 "metadata": {
  "kernelspec": {
   "display_name": "Python 3",
   "language": "python",
   "name": "python3"
  },
  "language_info": {
   "codemirror_mode": {
    "name": "ipython",
    "version": 3
   },
   "file_extension": ".py",
   "mimetype": "text/x-python",
   "name": "python",
   "nbconvert_exporter": "python",
   "pygments_lexer": "ipython3",
   "version": "3.8.3"
  }
 },
 "nbformat": 4,
 "nbformat_minor": 4
}
