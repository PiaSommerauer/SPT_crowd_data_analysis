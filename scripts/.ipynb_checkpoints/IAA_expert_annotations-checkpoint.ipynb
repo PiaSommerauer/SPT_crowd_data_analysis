{
 "cells": [
  {
   "cell_type": "code",
   "execution_count": 1,
   "metadata": {},
   "outputs": [],
   "source": [
    "from load_data import load_expert_data\n",
    "from load_data import load_experiment_data\n",
    "from utils_analysis import load_analysis\n",
    "from utils_analysis import sort_by_key\n",
    "#from aggregate_labels import get_top_labels\n",
    "from analyze_workers import get_worker_analysis\n",
    "from calculate_iaa import get_agreement, get_kappa_pairs\n",
    "from calculate_iaa import create_matrix\n",
    "from calculate_iaa import get_full_report\n",
    "\n",
    "import csv"
   ]
  },
  {
   "cell_type": "code",
   "execution_count": 45,
   "metadata": {},
   "outputs": [],
   "source": [
    "def prepare_gold_file(data_dict_list):\n",
    "    data_by_triple = sort_by_key(data_dict_list, ['relation', 'property', 'concept'])\n",
    "    \n",
    "    header = ['relation','property','concept', 'answer','agreement', \n",
    "              'workerid','questionid',,'quid','description','exampletrue',\n",
    "              'examplefalse','run','sublist','completionurl','name',]\n",
    "    rows = []\n",
    "    to_remove = ['filename','listnumber','assignmentid','hitid',\n",
    "                 'origin', 'timestamp', 'partid',\n",
    "                 'id', 'uuid', 'time_taken_batch']\n",
    "    for triple, data in data_by_triple.items():\n",
    "        answers = set([d['answer'] for d in data])\n",
    "        row = data[0]\n",
    "        for k in to_remove:\n",
    "            row.pop(k)\n",
    "        if len(answers) == 1:\n",
    "            answer = list(answers)[0]\n",
    "            agreement = 'agree'\n",
    "            \n",
    "        else:\n",
    "            answer = 'ADD LABEL'\n",
    "            agreement = 'ADD EXPECTATION'\n",
    "        row['answer'] = answer\n",
    "        row['agreement'] = agreement\n",
    "        row['workerid'] = 'gold labels'\n",
    "        rows.append(row)\n",
    "    return rows\n",
    "    \n",
    "\n",
    "def get_disagreements(data_dict_list):\n",
    "    report_rows_disagreement = []\n",
    "    report_rows_agreement = []\n",
    "    data_by_pair  = sort_by_key(data_dict_list, ['property', 'concept'])\n",
    "    for pair, dicts in data_by_pair.items():\n",
    "\n",
    "        relation_dicts = sort_by_key(dicts, ['relation'])\n",
    "        for rel, dicts in relation_dicts.items():\n",
    "            question = dicts[0]['description']\n",
    "            answers = set(d['answer'] for d in dicts if d['workerid'])\n",
    "            for d in dicts:\n",
    "                row_d = dict()\n",
    "                row_d['triple'] = rel+'-'+pair+' '+question\n",
    "                row_d['worker'] = d['workerid']\n",
    "                row_d['answer'] = d['answer']\n",
    "                #print(pair, rel, '\\t', d['workerid'], d['answer'])\n",
    "                if len(answers) != 1:\n",
    "                    report_rows_disagreement.append(row_d)\n",
    "                else:\n",
    "                    report_rows_agreement.append(row_d)\n",
    "    return report_rows_disagreement, report_rows_agreement\n",
    "                \n",
    "def report_to_file(group, rows, report_type):\n",
    "    header = rows[0].keys()\n",
    "    path = f'../analyses/expert_annotations/report_{group}_{report_type}.csv'\n",
    "    with open(path, 'w') as outfile:\n",
    "        writer = csv.DictWriter(outfile, fieldnames = header)\n",
    "        writer.writeheader()\n",
    "        for r in rows:\n",
    "            writer.writerow(r)\n",
    "    print(f'Report written to {path}')"
   ]
  },
  {
   "cell_type": "markdown",
   "metadata": {},
   "source": [
    "# Load set "
   ]
  },
  {
   "cell_type": "code",
   "execution_count": 3,
   "metadata": {},
   "outputs": [
    {
     "name": "stdout",
     "output_type": "stream",
     "text": [
      "Discarded 0.0 annotations.\n"
     ]
    }
   ],
   "source": [
    "\n",
    "run = 4\n",
    "group = 'expert_inspection3'\n",
    "n_q = '*'\n",
    "batch = '*'\n",
    "data_dict_list = load_expert_data(run, group, n_q, batch)"
   ]
  },
  {
   "cell_type": "markdown",
   "metadata": {},
   "source": [
    "# Show worker overview"
   ]
  },
  {
   "cell_type": "code",
   "execution_count": 4,
   "metadata": {},
   "outputs": [
    {
     "data": {
      "text/html": [
       "<div>\n",
       "<style scoped>\n",
       "    .dataframe tbody tr th:only-of-type {\n",
       "        vertical-align: middle;\n",
       "    }\n",
       "\n",
       "    .dataframe tbody tr th {\n",
       "        vertical-align: top;\n",
       "    }\n",
       "\n",
       "    .dataframe thead th {\n",
       "        text-align: right;\n",
       "    }\n",
       "</style>\n",
       "<table border=\"1\" class=\"dataframe\">\n",
       "  <thead>\n",
       "    <tr style=\"text-align: right;\">\n",
       "      <th></th>\n",
       "      <th>workerid</th>\n",
       "      <th>contradiction_poss_contradiction_ratio</th>\n",
       "      <th>n_contradictions</th>\n",
       "      <th>n_fails</th>\n",
       "      <th>n_annotations</th>\n",
       "    </tr>\n",
       "  </thead>\n",
       "  <tbody>\n",
       "    <tr>\n",
       "      <th>0</th>\n",
       "      <td>antske</td>\n",
       "      <td>0.0</td>\n",
       "      <td>0</td>\n",
       "      <td>0</td>\n",
       "      <td>40</td>\n",
       "    </tr>\n",
       "    <tr>\n",
       "      <th>1</th>\n",
       "      <td>pia_run1</td>\n",
       "      <td>0.0</td>\n",
       "      <td>0</td>\n",
       "      <td>0</td>\n",
       "      <td>40</td>\n",
       "    </tr>\n",
       "    <tr>\n",
       "      <th>2</th>\n",
       "      <td>pia_run2</td>\n",
       "      <td>0.0</td>\n",
       "      <td>0</td>\n",
       "      <td>0</td>\n",
       "      <td>40</td>\n",
       "    </tr>\n",
       "    <tr>\n",
       "      <th>3</th>\n",
       "      <td>piek</td>\n",
       "      <td>0.0</td>\n",
       "      <td>0</td>\n",
       "      <td>0</td>\n",
       "      <td>40</td>\n",
       "    </tr>\n",
       "  </tbody>\n",
       "</table>\n",
       "</div>"
      ],
      "text/plain": [
       "   workerid  contradiction_poss_contradiction_ratio  n_contradictions  \\\n",
       "0    antske                                     0.0                 0   \n",
       "1  pia_run1                                     0.0                 0   \n",
       "2  pia_run2                                     0.0                 0   \n",
       "3      piek                                     0.0                 0   \n",
       "\n",
       "   n_fails  n_annotations  \n",
       "0        0             40  \n",
       "1        0             40  \n",
       "2        0             40  \n",
       "3        0             40  "
      ]
     },
     "execution_count": 4,
     "metadata": {},
     "output_type": "execute_result"
    }
   ],
   "source": [
    "name = f'run{run}-group_{group}-batch{batch}'.replace('*', '-all-')\n",
    "df, filepath = get_worker_analysis(data_dict_list, name)\n",
    "df.drop(['annotations'], axis = 1, inplace=True)\n",
    "df[['workerid', 'contradiction_poss_contradiction_ratio',\n",
    "    'n_contradictions', 'n_fails', 'n_annotations']]"
   ]
  },
  {
   "cell_type": "code",
   "execution_count": null,
   "metadata": {},
   "outputs": [],
   "source": []
  },
  {
   "cell_type": "markdown",
   "metadata": {},
   "source": [
    "# Agreement overview"
   ]
  },
  {
   "cell_type": "code",
   "execution_count": 5,
   "metadata": {
    "scrolled": true
   },
   "outputs": [
    {
     "name": "stdout",
     "output_type": "stream",
     "text": [
      "full\n",
      "Krippendorff 0.2663150955833882\n",
      "Proportional 0.7374999999999999\n",
      "Av_Cohens_kappa 0.26111996528826853\n",
      "\n",
      "pos_neg\n",
      "Krippendorff 1.0\n",
      "Proportional 1.0\n",
      "Av_Cohens_kappa 1.0\n",
      "\n",
      "levels\n",
      "Krippendorff 0.72\n",
      "Proportional 0.8333333333333333\n",
      "Av_Cohens_kappa 0.6666666666666666\n",
      "\n",
      "similar_relations\n",
      "Krippendorff 0.6169642857142857\n",
      "Proportional 0.7833333333333334\n",
      "Av_Cohens_kappa 0.5082815734989647\n",
      "\n"
     ]
    }
   ],
   "source": [
    "# Agreement collapsed\n",
    "\n",
    "full_report = get_full_report(data_dict_list)\n",
    "for collapsed_set, scores in full_report.items():\n",
    "    print(collapsed_set)\n",
    "    for n, s in scores.items():\n",
    "        print(n, s)\n",
    "    print()"
   ]
  },
  {
   "cell_type": "markdown",
   "metadata": {},
   "source": [
    "## Agreement by annotator pair"
   ]
  },
  {
   "cell_type": "code",
   "execution_count": 6,
   "metadata": {},
   "outputs": [
    {
     "name": "stdout",
     "output_type": "stream",
     "text": [
      "('piek', 'pia_run2') 0.17910447761194037\n",
      "('antske', 'pia_run2') 0.29487179487179493\n",
      "('piek', 'antske') 0.07894736842105254\n",
      "('piek', 'pia_run1') 0.0625\n",
      "('pia_run1', 'antske') 0.4736842105263158\n",
      "('pia_run1', 'pia_run2') 0.4776119402985075\n"
     ]
    }
   ],
   "source": [
    "\n",
    "matrix = create_matrix(data_dict_list)\n",
    "pair_kappa_dict = get_kappa_pairs(matrix)\n",
    "\n",
    "for pair, k in pair_kappa_dict.items():\n",
    "    \n",
    "    print(pair, k)"
   ]
  },
  {
   "cell_type": "markdown",
   "metadata": {},
   "source": [
    "# (Dis)agreements to file"
   ]
  },
  {
   "cell_type": "code",
   "execution_count": 9,
   "metadata": {
    "scrolled": true
   },
   "outputs": [
    {
     "name": "stdout",
     "output_type": "stream",
     "text": [
      "Report written to ../analyses/expert_annotations/report_expert_inspection3_disagree.csv\n",
      "Report written to ../analyses/expert_annotations/report_expert_inspection3_agree.csv\n"
     ]
    }
   ],
   "source": [
    "rows_disagree, rows_agree = get_disagreements(data_dict_list)\n",
    "report_to_file(group, rows_disagree, 'disagree')\n",
    "report_to_file(group, rows_agree, 'agree')"
   ]
  },
  {
   "cell_type": "code",
   "execution_count": 10,
   "metadata": {},
   "outputs": [
    {
     "name": "stdout",
     "output_type": "stream",
     "text": [
      "square-recliner\n",
      "yellow-leopard\n",
      "round-pen\n",
      "roll-washer\n",
      "lay_eggs-plaice\n"
     ]
    }
   ],
   "source": [
    "pairs = sort_by_key(data_dict_list, ['property', 'concept'])\n",
    "for p, d in pairs.items():\n",
    "    print(p)\n"
   ]
  },
  {
   "cell_type": "markdown",
   "metadata": {},
   "source": [
    "# Get pairs annotated so far"
   ]
  },
  {
   "cell_type": "code",
   "execution_count": 26,
   "metadata": {},
   "outputs": [
    {
     "name": "stdout",
     "output_type": "stream",
     "text": [
      "Discarded 0.0 annotations.\n",
      "4\n",
      "fly-arrow\n",
      "roll-pin\n",
      "yellow-buttercup\n",
      "roll-tire\n"
     ]
    }
   ],
   "source": [
    "\n",
    "run = 4\n",
    "group = 'expert_inspection1'\n",
    "n_q = '30'\n",
    "batch = '1'\n",
    "data_dict_list = load_expert_data(run, group, n_q, batch)\n",
    "\n",
    "data_by_pairs = sort_by_key(data_dict_list, ['property', 'concept'])\n",
    "print(len(data_by_pairs))\n",
    "for pair, annotations in data_by_pairs.items():\n",
    "    print(pair)"
   ]
  },
  {
   "cell_type": "code",
   "execution_count": 18,
   "metadata": {},
   "outputs": [],
   "source": []
  },
  {
   "cell_type": "code",
   "execution_count": 46,
   "metadata": {},
   "outputs": [
    {
     "name": "stdout",
     "output_type": "stream",
     "text": [
      "Discarded 0.0 annotations.\n"
     ]
    }
   ],
   "source": [
    "run = 4\n",
    "group = 'expert_inspection1'\n",
    "n_q = '30'\n",
    "batch = '1'\n",
    "data_dict_list = load_expert_data(run, group, n_q, batch)\n",
    "\n",
    "for d in data_dict_list:\n",
    "    if 'origin' not in d.keys():\n",
    "        print('no origin', d)\n",
    "\n",
    "rows = prepare_gold_file(data_dict_list)\n",
    "\n",
    "gold_dir = '../gold_labels/'\n",
    "name = f'run{run}-group_{group}-batch{batch}.csv'.replace('*', '-all-')\n",
    "path = f'{gold_dir}{name}'\n",
    "header = rows[0].keys()\n",
    "with open(path, 'w') as outfile:\n",
    "    writer = csv.DictWriter(outfile, fieldnames = header)\n",
    "    writer.writeheader()\n",
    "    for r in rows:\n",
    "        writer.writerow(r)\n",
    "    \n",
    "#name = f'run{run}-group_{group}-batch{batch}'.replace('*', '-all-')"
   ]
  },
  {
   "cell_type": "code",
   "execution_count": null,
   "metadata": {},
   "outputs": [],
   "source": []
  }
 ],
 "metadata": {
  "kernelspec": {
   "display_name": "Python 3",
   "language": "python",
   "name": "python3"
  },
  "language_info": {
   "codemirror_mode": {
    "name": "ipython",
    "version": 3
   },
   "file_extension": ".py",
   "mimetype": "text/x-python",
   "name": "python",
   "nbconvert_exporter": "python",
   "pygments_lexer": "ipython3",
   "version": "3.7.7"
  }
 },
 "nbformat": 4,
 "nbformat_minor": 4
}
