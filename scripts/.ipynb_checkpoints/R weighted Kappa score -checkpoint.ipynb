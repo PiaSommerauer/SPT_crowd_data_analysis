{
 "cells": [
  {
   "cell_type": "code",
   "execution_count": 4,
   "metadata": {},
   "outputs": [
    {
     "data": {
      "text/html": [
       "1"
      ],
      "text/latex": [
       "1"
      ],
      "text/markdown": [
       "1"
      ],
      "text/plain": [
       "[1] 1"
      ]
     },
     "metadata": {},
     "output_type": "display_data"
    }
   ],
   "source": [
    "x = 1\n",
    "x\n"
   ]
  },
  {
   "cell_type": "code",
   "execution_count": 10,
   "metadata": {},
   "outputs": [
    {
     "ename": "ERROR",
     "evalue": "Error in library(psych): there is no package called ‘psych’\n",
     "output_type": "error",
     "traceback": [
      "Error in library(psych): there is no package called ‘psych’\nTraceback:\n",
      "1. library(psych)"
     ]
    }
   ],
   "source": [
    "library(psych)"
   ]
  },
  {
   "cell_type": "code",
   "execution_count": 5,
   "metadata": {},
   "outputs": [
    {
     "ename": "ERROR",
     "evalue": "Error in cohen.kappa(x = cbind(rater1, rater2)): could not find function \"cohen.kappa\"\n",
     "output_type": "error",
     "traceback": [
      "Error in cohen.kappa(x = cbind(rater1, rater2)): could not find function \"cohen.kappa\"\nTraceback:\n"
     ]
    }
   ],
   "source": [
    "\n",
    "#rating data (with thanks to Tim Bates)\n",
    "rater1 = c(1,2,3,4,5,6,7,8,9) # rater one's ratings\n",
    "rater2 = c(1,3,1,6,1,5,5,6,7) # rater one's ratings\n",
    "cohen.kappa(x=cbind(rater1,rater2))\n",
    "\n",
    "#data matrix taken from Cohen\n",
    "cohen <- matrix(c(\n",
    "0.44, 0.07, 0.09,\n",
    "0.05, 0.20, 0.05,\n",
    "0.01, 0.03, 0.06),ncol=3,byrow=TRUE)\n",
    "\n",
    "#cohen.weights  weight differences\n",
    "cohen.weights <- matrix(c(\n",
    "0,1,3,\n",
    "1,0,6,\n",
    "3,6,0),ncol=3)\n",
    "\n",
    "\n",
    "cohen.kappa(cohen,cohen.weights,n.obs=200)\n",
    "#cohen reports .492 and .348 \n"
   ]
  },
  {
   "cell_type": "code",
   "execution_count": null,
   "metadata": {},
   "outputs": [],
   "source": []
  }
 ],
 "metadata": {
  "kernelspec": {
   "display_name": "R",
   "language": "R",
   "name": "ir"
  },
  "language_info": {
   "codemirror_mode": "r",
   "file_extension": ".r",
   "mimetype": "text/x-r-source",
   "name": "R",
   "pygments_lexer": "r",
   "version": "3.6.1"
  }
 },
 "nbformat": 4,
 "nbformat_minor": 4
}
