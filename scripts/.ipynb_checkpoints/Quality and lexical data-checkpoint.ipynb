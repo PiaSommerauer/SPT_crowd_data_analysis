{
 "cells": [
  {
   "cell_type": "markdown",
   "metadata": {},
   "source": [
    "# Is there a correlation between annotation quality and lexical data?\n",
    "\n",
    "To investigate:\n",
    "\n",
    "* MRC familiarity\n",
    "* Polysemy types\n",
    "\n",
    "Annotation quality measured by:\n",
    "\n",
    "* performance on expert annotations\n",
    "* agreement \n",
    "* contradiction rate\n",
    "\n",
    "\n",
    "**To do**\n",
    "\n",
    "* Find aggregated labels for evaluation and comparison\n",
    "* Measure average and std ratings for correct and incorrect\n",
    "* Count polysemy type for correct and incorrect/expected and unexpected agreement\n",
    "\n",
    "\n",
    "Aggregated labels (relations): ../aggregated_labels/run-all--group_experiment-all--batch-all--cleaned_contradictions_batch_0.5-vote_majority_vote-relations.csv\n",
    "\n",
    "\n",
    "Aggregated labels (levels): ../aggregated_labels/run-all--group_experiment-all--batch-all--cleaned_contradictions_batch_0.5-vote_majority_vote-levels.csv"
   ]
  },
  {
   "cell_type": "code",
   "execution_count": 75,
   "metadata": {},
   "outputs": [],
   "source": [
    "from utils_data import load_experiment_data, load_gold_data\n",
    "from calculate_iaa import get_agreement\n",
    "from utils_analysis import sort_by_key\n",
    "\n",
    "from sklearn.metrics import precision_recall_fscore_support as p_r_f1\n",
    "import csv\n",
    "from collections import defaultdict"
   ]
  },
  {
   "cell_type": "code",
   "execution_count": 89,
   "metadata": {},
   "outputs": [],
   "source": [
    "def load_aggregated_labels(category='relations'):\n",
    "    \n",
    "    agg_dir = '../aggregated_labels/'\n",
    "    exp = 'run-all--group_experiment-all--batch-all'\n",
    "    path = f'{agg_dir}/{exp}--cleaned_contradictions_batch_0.5-vote_majority_vote-{category}.csv'\n",
    "    with open(path) as infile:\n",
    "        dicts = list(csv.DictReader(infile))\n",
    "    return dicts\n",
    "\n",
    "\n",
    "def load_lexical_data():\n",
    "    path = '../data_lexical_info/vocab/all_lodce_mrc.csv'\n",
    "    with open(path) as infile:\n",
    "        dicts = list(csv.DictReader(infile))\n",
    "    word_info_dict = sort_by_key(dicts, ['word'])\n",
    "    return word_info_dict\n",
    "\n",
    "\n",
    "def get_lexical_info(concepts, word_info_dict, info='fam'):\n",
    "    concept_value_dict = dict()\n",
    "    for c in concepts:\n",
    "        if c in word_info_dict:\n",
    "            print(word_info_dict)\n",
    "            info_dict = word_info_dict[c][0]\n",
    "            value = info_dict[info]\n",
    "            concept_value_dict[c] = value\n",
    "    return concept_value_dict\n",
    "        \n",
    "        "
   ]
  },
  {
   "cell_type": "code",
   "execution_count": 90,
   "metadata": {},
   "outputs": [
    {
     "name": "stdout",
     "output_type": "stream",
     "text": [
      "Discarded 655.0 annotations.\n"
     ]
    }
   ],
   "source": [
    "# load crowd:\n",
    "run = '*'\n",
    "group = 'experiment*'\n",
    "n_q = '*'\n",
    "batch = '*'\n",
    "crowd = load_experiment_data(run, group, n_q, batch)"
   ]
  },
  {
   "cell_type": "code",
   "execution_count": 91,
   "metadata": {},
   "outputs": [
    {
     "name": "stderr",
     "output_type": "stream",
     "text": [
      "/Users/piasommerauer/opt/anaconda3/lib/python3.8/site-packages/sklearn/metrics/_classification.py:620: RuntimeWarning: invalid value encountered in true_divide\n",
      "  k = np.sum(w_mat * confusion) / np.sum(w_mat * expected)\n"
     ]
    },
    {
     "name": "stdout",
     "output_type": "stream",
     "text": [
      "Krippendorff's alpha: 0.3318404604764501\n",
      "Average Cohen's Kappa (pairwise): 0.3152848933711451\n",
      "Proportional agreement (pairwise): 0.6743882516665843\n",
      "\n"
     ]
    }
   ],
   "source": [
    "# test iaa\n",
    "iaa = get_agreement(crowd)"
   ]
  },
  {
   "cell_type": "code",
   "execution_count": 92,
   "metadata": {},
   "outputs": [
    {
     "name": "stdout",
     "output_type": "stream",
     "text": [
      "variability_limited-black-pea [{'': '0', 'relation': 'variability_limited', 'property': 'black', 'concept': 'pea', 'majority_vote': 'True'}]\n",
      "implied_category-black-pea [{'': '1', 'relation': 'implied_category', 'property': 'black', 'concept': 'pea', 'majority_vote': 'False'}]\n",
      "impossible-black-pea [{'': '2', 'relation': 'impossible', 'property': 'black', 'concept': 'pea', 'majority_vote': 'False'}]\n",
      "variability_open-black-pea [{'': '3', 'relation': 'variability_open', 'property': 'black', 'concept': 'pea', 'majority_vote': 'False'}]\n",
      "typical_of_property-black-pea [{'': '4', 'relation': 'typical_of_property', 'property': 'black', 'concept': 'pea', 'majority_vote': 'False'}]\n",
      "typical_of_concept-black-pea [{'': '5', 'relation': 'typical_of_concept', 'property': 'black', 'concept': 'pea', 'majority_vote': 'False'}]\n"
     ]
    }
   ],
   "source": [
    "# load aggregated labels\n",
    "agg = load_aggregated_labels()\n",
    "agg_dict = sort_by_key(agg, ['relation', 'property', 'concept'])\n",
    "c = 0\n",
    "\n",
    "for k, v in agg_dict.items():\n",
    "    print(k, v)\n",
    "    c += 1\n",
    "    if c > 5:\n",
    "        break"
   ]
  },
  {
   "cell_type": "code",
   "execution_count": 93,
   "metadata": {},
   "outputs": [
    {
     "name": "stdout",
     "output_type": "stream",
     "text": [
      "True\n"
     ]
    }
   ],
   "source": [
    "# load lexical data\n",
    "\n",
    "lexical = load_lexical_data()\n",
    "check = [(len(v)== 1) for k, v in lexical.items()]\n",
    "print(all(check))"
   ]
  },
  {
   "cell_type": "code",
   "execution_count": 94,
   "metadata": {},
   "outputs": [
    {
     "data": {
      "text/plain": [
       "[{'quid': 'impossible-shovel-roll',\n",
       "  'relation': 'impossible',\n",
       "  'property': 'roll',\n",
       "  'concept': 'shovel',\n",
       "  'answer': 'false',\n",
       "  'expected_agreement': 'disagreement',\n",
       "  'disagreement_cnt': 4,\n",
       "  'workerid': 'gold',\n",
       "  'completionurl': 'gold'},\n",
       " {'quid': 'unusual-carrot-red',\n",
       "  'relation': 'unusual',\n",
       "  'property': 'red',\n",
       "  'concept': 'carrot',\n",
       "  'answer': 'NOGOLD',\n",
       "  'expected_agreement': 'disagreement',\n",
       "  'disagreement_cnt': 5,\n",
       "  'workerid': 'gold',\n",
       "  'completionurl': 'gold'},\n",
       " {'quid': 'implied_category-freebooter-dangerous',\n",
       "  'relation': 'implied_category',\n",
       "  'property': 'dangerous',\n",
       "  'concept': 'freebooter',\n",
       "  'answer': 'true',\n",
       "  'expected_agreement': 'disagreement',\n",
       "  'disagreement_cnt': 4,\n",
       "  'workerid': 'gold',\n",
       "  'completionurl': 'gold'}]"
      ]
     },
     "execution_count": 94,
     "metadata": {},
     "output_type": "execute_result"
    }
   ],
   "source": [
    "# load gold\n",
    "gold = load_gold_data()\n",
    "gold[:3]\n"
   ]
  },
  {
   "cell_type": "code",
   "execution_count": 95,
   "metadata": {},
   "outputs": [
    {
     "name": "stdout",
     "output_type": "stream",
     "text": [
      "correct 18\n",
      "incorrect 12\n",
      "154\n"
     ]
    }
   ],
   "source": [
    "# Get correct vs incorrect\n",
    "\n",
    "outcome_dict = defaultdict(set)\n",
    "c = 0\n",
    "keys = ['relation', 'property', 'concept']\n",
    "for d in gold:\n",
    "    triple = '-'.join([d[k] for k in keys])\n",
    "    agg_info = agg_dict[triple.strip()]\n",
    "    assert len(agg_info) == 1, 'too many values'\n",
    "    agg_info = agg_info[0]\n",
    "    label = agg_info['majority_vote'].lower()\n",
    "    gold_label = d['answer']\n",
    "    if gold_label != 'NOGOLD':\n",
    "        concept = agg_info['concept']\n",
    "        if label == gold_label:\n",
    "            outcome_dict['correct'].add(concept)\n",
    "        else:\n",
    "            outcome_dict['incorrect'].add(concept)\n",
    "\n",
    "    \n",
    "for l, concepts in outcome_dict.items():\n",
    "    print(l, len(concepts))\n",
    "    \n",
    "print(len(gold))"
   ]
  },
  {
   "cell_type": "code",
   "execution_count": 102,
   "metadata": {},
   "outputs": [
    {
     "ename": "IndexError",
     "evalue": "list index out of range",
     "output_type": "error",
     "traceback": [
      "\u001b[0;31m---------------------------------------------------------------------------\u001b[0m",
      "\u001b[0;31mIndexError\u001b[0m                                Traceback (most recent call last)",
      "\u001b[0;32m<ipython-input-102-bb589148ac2b>\u001b[0m in \u001b[0;36m<module>\u001b[0;34m\u001b[0m\n\u001b[1;32m      1\u001b[0m \u001b[0;32mfor\u001b[0m \u001b[0moutcome\u001b[0m\u001b[0;34m,\u001b[0m \u001b[0mconcepts\u001b[0m \u001b[0;32min\u001b[0m \u001b[0moutcome_dict\u001b[0m\u001b[0;34m.\u001b[0m\u001b[0mitems\u001b[0m\u001b[0;34m(\u001b[0m\u001b[0;34m)\u001b[0m\u001b[0;34m:\u001b[0m\u001b[0;34m\u001b[0m\u001b[0;34m\u001b[0m\u001b[0m\n\u001b[0;32m----> 2\u001b[0;31m     \u001b[0mconcept_value_dict\u001b[0m \u001b[0;34m=\u001b[0m \u001b[0mget_lexical_info\u001b[0m\u001b[0;34m(\u001b[0m\u001b[0mconcepts\u001b[0m\u001b[0;34m,\u001b[0m \u001b[0mlexical\u001b[0m\u001b[0;34m,\u001b[0m \u001b[0minfo\u001b[0m\u001b[0;34m=\u001b[0m\u001b[0;34m'fam'\u001b[0m\u001b[0;34m)\u001b[0m\u001b[0;34m\u001b[0m\u001b[0;34m\u001b[0m\u001b[0m\n\u001b[0m\u001b[1;32m      3\u001b[0m     \u001b[0mav\u001b[0m \u001b[0;34m=\u001b[0m \u001b[0msum\u001b[0m\u001b[0;34m(\u001b[0m\u001b[0mconcept_value_dict\u001b[0m\u001b[0;34m.\u001b[0m\u001b[0mvalues\u001b[0m\u001b[0;34m(\u001b[0m\u001b[0;34m)\u001b[0m\u001b[0;34m)\u001b[0m\u001b[0;34m/\u001b[0m\u001b[0mlen\u001b[0m\u001b[0;34m(\u001b[0m\u001b[0mconcept_value_dict\u001b[0m\u001b[0;34m)\u001b[0m\u001b[0;34m\u001b[0m\u001b[0;34m\u001b[0m\u001b[0m\n\u001b[1;32m      4\u001b[0m     \u001b[0mprint\u001b[0m\u001b[0;34m(\u001b[0m\u001b[0moutcome\u001b[0m\u001b[0;34m,\u001b[0m \u001b[0mav\u001b[0m\u001b[0;34m)\u001b[0m\u001b[0;34m\u001b[0m\u001b[0;34m\u001b[0m\u001b[0m\n",
      "\u001b[0;32m<ipython-input-89-d8153b713510>\u001b[0m in \u001b[0;36mget_lexical_info\u001b[0;34m(concepts, word_info_dict, info)\u001b[0m\n\u001b[1;32m     20\u001b[0m     \u001b[0mconcept_value_dict\u001b[0m \u001b[0;34m=\u001b[0m \u001b[0mdict\u001b[0m\u001b[0;34m(\u001b[0m\u001b[0;34m)\u001b[0m\u001b[0;34m\u001b[0m\u001b[0;34m\u001b[0m\u001b[0m\n\u001b[1;32m     21\u001b[0m     \u001b[0;32mfor\u001b[0m \u001b[0mc\u001b[0m \u001b[0;32min\u001b[0m \u001b[0mconcepts\u001b[0m\u001b[0;34m:\u001b[0m\u001b[0;34m\u001b[0m\u001b[0;34m\u001b[0m\u001b[0m\n\u001b[0;32m---> 22\u001b[0;31m         \u001b[0minfo_dict\u001b[0m \u001b[0;34m=\u001b[0m \u001b[0mword_info_dict\u001b[0m\u001b[0;34m[\u001b[0m\u001b[0mc\u001b[0m\u001b[0;34m]\u001b[0m\u001b[0;34m[\u001b[0m\u001b[0;36m0\u001b[0m\u001b[0;34m]\u001b[0m\u001b[0;34m\u001b[0m\u001b[0;34m\u001b[0m\u001b[0m\n\u001b[0m\u001b[1;32m     23\u001b[0m         \u001b[0mvalue\u001b[0m \u001b[0;34m=\u001b[0m \u001b[0minfo_dict\u001b[0m\u001b[0;34m[\u001b[0m\u001b[0minfo\u001b[0m\u001b[0;34m]\u001b[0m\u001b[0;34m\u001b[0m\u001b[0;34m\u001b[0m\u001b[0m\n\u001b[1;32m     24\u001b[0m         \u001b[0mconcept_value_dict\u001b[0m\u001b[0;34m[\u001b[0m\u001b[0mc\u001b[0m\u001b[0;34m]\u001b[0m \u001b[0;34m=\u001b[0m \u001b[0mvalue\u001b[0m\u001b[0;34m\u001b[0m\u001b[0;34m\u001b[0m\u001b[0m\n",
      "\u001b[0;31mIndexError\u001b[0m: list index out of range"
     ]
    }
   ],
   "source": [
    "for outcome, concepts in outcome_dict.items():\n",
    "    concept_value_dict = get_lexical_info(concepts, lexical, info='fam')\n",
    "    av = sum(concept_value_dict.values())/len(concept_value_dict)\n",
    "    print(outcome, av)"
   ]
  },
  {
   "cell_type": "code",
   "execution_count": null,
   "metadata": {},
   "outputs": [],
   "source": []
  }
 ],
 "metadata": {
  "kernelspec": {
   "display_name": "Python 3",
   "language": "python",
   "name": "python3"
  },
  "language_info": {
   "codemirror_mode": {
    "name": "ipython",
    "version": 3
   },
   "file_extension": ".py",
   "mimetype": "text/x-python",
   "name": "python",
   "nbconvert_exporter": "python",
   "pygments_lexer": "ipython3",
   "version": "3.8.3"
  }
 },
 "nbformat": 4,
 "nbformat_minor": 4
}
