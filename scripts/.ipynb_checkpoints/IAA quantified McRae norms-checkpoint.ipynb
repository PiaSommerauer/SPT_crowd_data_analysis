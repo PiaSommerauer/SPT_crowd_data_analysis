{
 "cells": [
  {
   "cell_type": "markdown",
   "metadata": {},
   "source": [
    "# Quantified McRae norms"
   ]
  },
  {
   "cell_type": "code",
   "execution_count": 20,
   "metadata": {},
   "outputs": [
    {
     "name": "stdout",
     "output_type": "stream",
     "text": [
      "21771\n",
      "0.27469428135421126 0.2963650774961838 0.5257911901153178\n"
     ]
    }
   ],
   "source": [
    "from nltk import agreement\n",
    "from calculate_iaa import proportional_agreement_pairs\n",
    "from calculate_iaa import get_average_kappa\n",
    "from calculate_iaa import coder_pairs_matrix\n",
    "from sklearn.metrics import cohen_kappa_score\n",
    "import numpy as np\n",
    "from collections import Counter\n",
    "\n",
    "from collections import defaultdict\n",
    "\n",
    "def load_mcrae():\n",
    "    matrix = []\n",
    "    c = 0\n",
    "    with open('../data/mcrae-quantified.txt') as infile:\n",
    "        for line in infile:\n",
    "            if not line.startswith('#') and '\\t' in line:\n",
    "                c += 1\n",
    "                row = line.strip().split('\\t')\n",
    "                pair = row[2]+'--'+row[1]\n",
    "                #print(line.strip())\n",
    "                annotations = row[3:6]\n",
    "                for n, annotation in enumerate(annotations):\n",
    "                    #row = [worker, quid, answer]\n",
    "                    if n == 3:\n",
    "                        print(n, pair, annotation)\n",
    "                    matrix_row = [n, pair, annotation]\n",
    "                    matrix.append(matrix_row)\n",
    "    \n",
    "    return matrix  \n",
    "\n",
    "matrix = load_mcrae()\n",
    "print(len(matrix))\n",
    "ratingtask = agreement.AnnotationTask(data=matrix)\n",
    "alpha = ratingtask.alpha()\n",
    "kappa = get_average_kappa(matrix)\n",
    "prop = proportional_agreement_pairs(matrix)\n",
    "print(alpha, kappa,  prop)"
   ]
  },
  {
   "cell_type": "code",
   "execution_count": null,
   "metadata": {},
   "outputs": [],
   "source": [
    "pair_kappa = get_average_kappa_pairs(matrix)\n",
    "for pair, k in pair_kappa.items():\n",
    "    print(pair, k)"
   ]
  },
  {
   "cell_type": "code",
   "execution_count": 35,
   "metadata": {},
   "outputs": [
    {
     "name": "stdout",
     "output_type": "stream",
     "text": [
      "n pairs 21771\n",
      "annotations  65313\n",
      "n properties 2524\n",
      "average concepts per property 8.625594294770206\n",
      "399 1 ['made_of_metal']\n",
      "3 1701\n"
     ]
    }
   ],
   "source": [
    "# Get number of exaamples by property\n",
    "\n",
    "prop_concept_dict = defaultdict(list)\n",
    "\n",
    "for row in matrix:\n",
    "    pair = row[1]\n",
    "    pair_list = pair.split('--')\n",
    "    if len(pair_list) == 2:\n",
    "        prop, concept = pair_list\n",
    "        prop_concept_dict[prop].append(concept)\n",
    "    \n",
    "\n",
    "n_concepts_dict = defaultdict(list)\n",
    "n_concepts\n",
    "for prop, concepts in prop_concept_dict.items():\n",
    "    #print(prop, len(concepts))\n",
    "    n_concepts_dict[len(concepts)].append(prop)\n",
    "    n_concepts.append(len(concepts))\n",
    "\n",
    "print('n pairs', len(matrix))\n",
    "print('annotations ', len(matrix)*3)\n",
    "print('n properties', len(prop_concept_dict))\n",
    "print('average concepts per property', sum(n_concepts)/len(n_concepts))\n",
    "max_concepts = sorted(n_concepts_dict.keys(), reverse=True)[0]\n",
    "min_concepts = min(n_concepts_dict.keys())\n",
    "\n",
    "print(max_concepts, len(n_concepts_dict[max_concepts]), n_concepts_dict[max_concepts])\n",
    "print(min_concepts, len(n_concepts_dict[min_concepts]))"
   ]
  },
  {
   "cell_type": "code",
   "execution_count": null,
   "metadata": {},
   "outputs": [],
   "source": []
  }
 ],
 "metadata": {
  "kernelspec": {
   "display_name": "Python 3",
   "language": "python",
   "name": "python3"
  },
  "language_info": {
   "codemirror_mode": {
    "name": "ipython",
    "version": 3
   },
   "file_extension": ".py",
   "mimetype": "text/x-python",
   "name": "python",
   "nbconvert_exporter": "python",
   "pygments_lexer": "ipython3",
   "version": "3.7.7"
  }
 },
 "nbformat": 4,
 "nbformat_minor": 4
}
