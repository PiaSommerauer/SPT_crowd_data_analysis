{
 "cells": [
  {
   "cell_type": "markdown",
   "metadata": {},
   "source": [
    "# Quantified McRae norms"
   ]
  },
  {
   "cell_type": "code",
   "execution_count": 13,
   "metadata": {},
   "outputs": [
    {
     "name": "stdout",
     "output_type": "stream",
     "text": [
      "21771\n",
      "0.27469428135421126 0.2963650774961838 0.5257911901153178\n"
     ]
    }
   ],
   "source": [
    "from nltk import agreement\n",
    "from calculate_iaa import proportional_agreement_pairs\n",
    "#from calculate_iaa import get_average_kappa\n",
    "from calculate_iaa import coder_pairs_matrix\n",
    "from sklearn.metrics import cohen_kappa_score\n",
    "import numpy as np\n",
    "\n",
    "from collections import defaultdict\n",
    "\n",
    "def load_mcrae():\n",
    "    matrix = []\n",
    "    c = 0\n",
    "    with open('../data/mcrae-quantified.txt') as infile:\n",
    "        for line in infile:\n",
    "            if not line.startswith('#') and '\\t' in line:\n",
    "                c += 1\n",
    "                row = line.strip().split('\\t')\n",
    "                pair = row[2]+'-'+row[1]\n",
    "                #print(line.strip())\n",
    "                annotations = row[3:6]\n",
    "                for n, annotation in enumerate(annotations):\n",
    "                    #row = [worker, quid, answer]\n",
    "                    if n == 3:\n",
    "                        print(n, pair, annotation)\n",
    "                    matrix_row = [n, pair, annotation]\n",
    "                    matrix.append(matrix_row)\n",
    "    \n",
    "    return matrix  \n",
    "\n",
    "matrix = load_mcrae()\n",
    "print(len(matrix))\n",
    "ratingtask = agreement.AnnotationTask(data=matrix)\n",
    "alpha = ratingtask.alpha()\n",
    "kappa = get_average_kappa(matrix)\n",
    "prop = proportional_agreement_pairs(matrix)\n",
    "print(alpha, kappa,  prop)"
   ]
  },
  {
   "cell_type": "code",
   "execution_count": 12,
   "metadata": {},
   "outputs": [
    {
     "name": "stdout",
     "output_type": "stream",
     "text": [
      "(0, 1) 0.27857131002219504\n",
      "(0, 2) 0.23075919837842918\n",
      "(1, 2) 0.37976472408792716\n"
     ]
    }
   ],
   "source": [
    "pair_kappa = get_average_kappa_pairs(matrix)\n",
    "for pair, k in pair_kappa.items():\n",
    "    print(pair, k)"
   ]
  },
  {
   "cell_type": "code",
   "execution_count": 11,
   "metadata": {},
   "outputs": [],
   "source": [
    "def get_average_kappa(matrix):\n",
    "    pair_kappa_dict = get_kappa_pairs(matrix)\n",
    "    \n",
    "    if len(pair_kappa_dict) > 0:\n",
    "        sum_kappa = sum(pair_kappa_dict.values())\n",
    "        av_kappa = sum_kappa/len(pair_kappa_dict)\n",
    "    else:\n",
    "        av_kappa = 0\n",
    "    return av_kappa\n",
    "   \n",
    "\n",
    "def get_kappa_pairs(matrix):\n",
    "    pairs = coder_pairs_matrix(matrix)\n",
    "    unit_dict = defaultdict(dict)\n",
    "    pair_unit_dict = defaultdict(list)\n",
    "    pair_kappa_dict = dict()\n",
    "    for w, u, l in matrix:\n",
    "        unit_dict[u][w] = l\n",
    "    all_pair_answers = []\n",
    "    sum_kappas =0.0\n",
    "    sum_valid_pairs = 0.0\n",
    "    for wi, wj in pairs:\n",
    "        pair_label_dict = defaultdict(list)\n",
    "        for u, worker_l_dict in unit_dict.items():\n",
    "            if wi in worker_l_dict and wj in worker_l_dict:\n",
    "                pair_label_dict[wi].append(worker_l_dict[wi])\n",
    "                pair_label_dict[wj].append(worker_l_dict[wj])\n",
    "        labels_i = pair_label_dict[wi]\n",
    "        labels_j = pair_label_dict[wj]\n",
    "        if len(labels_i) > 0:\n",
    "            kappa = cohen_kappa_score(labels_i, labels_j)\n",
    "            pair_kappa_dict[(wi, wj)] = kappa\n",
    "            \n",
    "    return pair_kappa_dict"
   ]
  },
  {
   "cell_type": "code",
   "execution_count": null,
   "metadata": {},
   "outputs": [],
   "source": []
  }
 ],
 "metadata": {
  "kernelspec": {
   "display_name": "Python 3",
   "language": "python",
   "name": "python3"
  },
  "language_info": {
   "codemirror_mode": {
    "name": "ipython",
    "version": 3
   },
   "file_extension": ".py",
   "mimetype": "text/x-python",
   "name": "python",
   "nbconvert_exporter": "python",
   "pygments_lexer": "ipython3",
   "version": "3.7.7"
  }
 },
 "nbformat": 4,
 "nbformat_minor": 4
}
