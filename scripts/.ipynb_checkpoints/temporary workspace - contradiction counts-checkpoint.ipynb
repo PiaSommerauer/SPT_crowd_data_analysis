{
 "cells": [
  {
   "cell_type": "markdown",
   "metadata": {},
   "source": [
    "# Inter-annotator agreement analyses\n",
    "\n",
    "\n",
    "**To do:**\n",
    "\n",
    "* Compare agreement between pairs with contradictory annotations and pairs without (of cleaned and uncleaned data)\n",
    "* Remove workers with contradictions and check fails\n",
    "* Test what happens to agreement if we collapse all annotations in a single group. \n",
    "\n",
    "**Done:**\n",
    "* Remove pair-annotations if they are contradictory [done]\n",
    "* Remove workers who fail checks [done]\n",
    "* Remove workers with high contradictions [done]\n",
    "\n",
    "\n",
    "\n",
    "\n",
    "## Relation evaluation:\n",
    "\n",
    "* relations with most contradictions are probably difficult\n",
    "\n",
    "## Example evaluation:\n",
    "\n",
    "* Some examples may be missleading"
   ]
  },
  {
   "cell_type": "code",
   "execution_count": 12,
   "metadata": {},
   "outputs": [],
   "source": [
    "from utils_analysis import sort_by_key\n",
    "\n",
    "import csv\n",
    "from collections import defaultdict "
   ]
  },
  {
   "cell_type": "code",
   "execution_count": 45,
   "metadata": {},
   "outputs": [],
   "source": [
    "run = 3\n",
    "batch = 25\n",
    "n_q = 70\n",
    "group = 'experiment1'\n",
    "\n",
    "output_path = '../data/prolific_output/run3-group_experiment1/qu70-s_qu70-batch25.csv'\n",
    "input_path = '../../SPT_annotation/prolific_input/run3-group_experiment1/qu70-s_qu70-batch25.csv'\n",
    "header = ['quid', 'description', 'exampleTrue',\\\n",
    "          'exampleFalse', 'run', 'subList', 'triple', 'triple', 'url']\n",
    "with open(output_path) as infile:\n",
    "    dict_list_output = list(csv.DictReader(infile))\n",
    "    \n",
    "    \n",
    "with open(input_path) as infile:\n",
    "    dict_list_input = list(csv.DictReader(infile, fieldnames = header))"
   ]
  },
  {
   "cell_type": "code",
   "execution_count": 46,
   "metadata": {},
   "outputs": [
    {
     "name": "stdout",
     "output_type": "stream",
     "text": [
      "72 72\n"
     ]
    }
   ],
   "source": [
    "quid_triple_dict = dict()\n",
    "\n",
    "input_by_quid = sort_by_key(dict_list_input, ['quid'])\n",
    "  \n",
    "output_by_quid = sort_by_key(dict_list_output, ['quid'])\n",
    "\n",
    "\n",
    "print(len(input_by_quid), len(output_by_quid))"
   ]
  },
  {
   "cell_type": "code",
   "execution_count": 49,
   "metadata": {},
   "outputs": [],
   "source": [
    "\n",
    "for d in dict_list_output:\n",
    "    quid = d['quid']\n",
    "    d_input = input_by_quid[quid][0]\n",
    "    triple = d_input['triple']\n",
    "    #print(d['description'])\n",
    "    #print(quid, triple)\n",
    "    d['triple'] = triple\n",
    "    \n",
    "    "
   ]
  },
  {
   "cell_type": "code",
   "execution_count": 51,
   "metadata": {},
   "outputs": [],
   "source": [
    "# to file \n",
    "output_path = '../data/prolific_output/run3-group_experiment1/qu70-s_qu70-batch25.csv'\n",
    "\n",
    "fieldnames = dict_list_output[0].keys()\n",
    "with open(output_path, 'w') as outfile:\n",
    "    writer = csv.DictWriter(outfile, fieldnames = fieldnames)\n",
    "    writer.writeheader()\n",
    "    for d in dict_list_output:\n",
    "        writer.writerow(d)\n"
   ]
  },
  {
   "cell_type": "code",
   "execution_count": null,
   "metadata": {},
   "outputs": [],
   "source": []
  }
 ],
 "metadata": {
  "kernelspec": {
   "display_name": "Python 3",
   "language": "python",
   "name": "python3"
  },
  "language_info": {
   "codemirror_mode": {
    "name": "ipython",
    "version": 3
   },
   "file_extension": ".py",
   "mimetype": "text/x-python",
   "name": "python",
   "nbconvert_exporter": "python",
   "pygments_lexer": "ipython3",
   "version": "3.7.3"
  }
 },
 "nbformat": 4,
 "nbformat_minor": 4
}
