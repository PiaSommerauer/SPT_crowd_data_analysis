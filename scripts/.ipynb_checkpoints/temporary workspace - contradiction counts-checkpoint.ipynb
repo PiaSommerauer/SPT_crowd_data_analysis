{
 "cells": [
  {
   "cell_type": "code",
   "execution_count": 83,
   "metadata": {},
   "outputs": [],
   "source": [
    "import csv \n",
    "from collections import defaultdict \n",
    "from collections import Counter\n",
    "import pandas as pd\n",
    "\n",
    "from utils import load_contradiction_pairs\n",
    "from utils import load_experiment_data\n",
    "from utils import get_worker_pair_dict\n",
    "from utils import get_relation_counts\n",
    "from utils import consistency_check\n",
    "from analyze_contradictory_answers_per_pair import collect_contradictions\n",
    "#from analyze_contradictory_answers_per_pair import contradiction_analysis"
   ]
  },
  {
   "cell_type": "code",
   "execution_count": 86,
   "metadata": {},
   "outputs": [
    {
     "name": "stdout",
     "output_type": "stream",
     "text": [
      "dict_keys(['pair', 'pairs_removed', 'total', 'proportion', 'worker_ids']) 5665df264ef504000d7b6f62 5c1d4d88508cfd000103dc47 5c98a9e305f102001640f1d0 3\n",
      "dict_keys(['pair', 'pairs_removed', 'total', 'proportion', 'worker_ids'])  0\n",
      "dict_keys(['pair', 'pairs_removed', 'total', 'proportion', 'worker_ids']) 5c1d4d88508cfd000103dc47 1\n"
     ]
    }
   ],
   "source": [
    "### Contradiction analysis revised \n",
    "\n",
    "#### Count whose annotations we remove and whether it's the same person over and over\n",
    "\n",
    "def get_dict_lists(list_dict, dict_list_n, k_name, v_name):\n",
    "    dict_list = []\n",
    "    for k, l in dict_list_n.items():\n",
    "        cnt_dict = dict()\n",
    "        n = len(list_dict[k])\n",
    "        total = len(l)\n",
    "        cnt_dict[k_name] = k\n",
    "        cnt_dict[v_name] = n\n",
    "        cnt_dict['total'] = total\n",
    "        cnt_dict['proportion'] = n/total\n",
    "        cnt_dict['n removed'] = n\n",
    "        cnt_dict['worker_ids'] = ' '.join(list_dict[k])\n",
    "        dict_list.append(cnt_dict)\n",
    "    return dict_list\n",
    "\n",
    "\n",
    "def collect_contradictions(worker_pair_dict, dict_list_out, contradiction_pairs, v=True):\n",
    "\n",
    "    pair_workers_contradicting = defaultdict(list)\n",
    "    pair_nworkers = defaultdict(set)\n",
    "    for worker, pair_dict in worker_pair_dict.items():\n",
    "        for pair, relation_vec in pair_dict.items():\n",
    "            relation_counts = get_relation_counts(relation_vec, normalize = True)\n",
    "            contradictions = consistency_check(contradiction_pairs, relation_counts,\\\n",
    "                                               thresh = 0.0)\n",
    "            pair_nworkers[pair].add(worker)\n",
    "            if len(contradictions) > 0:\n",
    "                if v == True:\n",
    "                    print('contradiction_count', worker, pair)\n",
    "                pair_workers_contradicting[pair].append(worker)\n",
    "    dict_list_pairs = get_dict_lists(pair_workers_contradicting,\\\n",
    "                                     pair_nworkers, 'pair', 'pairs_removed')\n",
    "    return dict_list_pairs\n",
    "\n",
    "\n",
    "def contradiction_analysis(contradiction_pairs, run, group, n_q, batch, remove_not_val = True):\n",
    "\n",
    "    dict_list_out = load_experiment_data(run, group, n_q, batch,\\\n",
    "                                         remove_not_val = remove_not_val)\n",
    "    worker_pair_dict = get_worker_pair_dict(dict_list_out)\n",
    "    dict_list_pairs = collect_contradictions(worker_pair_dict, dict_list_out,\\\n",
    "                                            contradiction_pairs, v = False)\n",
    "\n",
    "    pair_cont_name = 'pairs_removed'\n",
    "    filepath = f'../analyses/contradiction/{pair_cont_name}-run{run}-group_{group}.csv'\n",
    "    #dicts_to_file(dict_list_pairs, filepath)\n",
    "    return filepath, dict_list_pairs\n",
    "\n",
    "contradiction_pairs = load_contradiction_pairs()\n",
    "run_analysis_dict = dict()\n",
    "\n",
    "run = 3\n",
    "batch = '*'\n",
    "n_q = '*'\n",
    "group = 'experiment1'\n",
    "\n",
    "filepath, dict_list_pairs = contradiction_analysis(contradiction_pairs,\\\n",
    "                                run, group, n_q, batch, remove_not_val = True)\n",
    "\n",
    "\n",
    "for d in dict_list_pairs[:3]:\n",
    "    print(d.keys(), d['worker_ids'], d['pairs_removed'])"
   ]
  },
  {
   "cell_type": "code",
   "execution_count": null,
   "metadata": {},
   "outputs": [],
   "source": []
  }
 ],
 "metadata": {
  "kernelspec": {
   "display_name": "Python 3",
   "language": "python",
   "name": "python3"
  },
  "language_info": {
   "codemirror_mode": {
    "name": "ipython",
    "version": 3
   },
   "file_extension": ".py",
   "mimetype": "text/x-python",
   "name": "python",
   "nbconvert_exporter": "python",
   "pygments_lexer": "ipython3",
   "version": "3.7.3"
  }
 },
 "nbformat": 4,
 "nbformat_minor": 4
}
