{
 "cells": [
  {
   "cell_type": "code",
   "execution_count": 1,
   "metadata": {},
   "outputs": [],
   "source": [
    "from analyze_contradictions import analyze_workers_batch\n",
    "from analyze_checks import analyze_batch_checks\n",
    "from match_workerids import analyze_worker_ids"
   ]
  },
  {
   "cell_type": "markdown",
   "metadata": {},
   "source": [
    "# Enter batch to analyze:"
   ]
  },
  {
   "cell_type": "code",
   "execution_count": 3,
   "metadata": {},
   "outputs": [],
   "source": [
    "run = 3\n",
    "batch = 7\n",
    "n_q = 70\n",
    "group = 'experiment1'"
   ]
  },
  {
   "cell_type": "markdown",
   "metadata": {},
   "source": [
    "# Check if all ids match\n",
    "\n",
    "If not, this should show you the correct mapping (if there is only one which does not match):"
   ]
  },
  {
   "cell_type": "code",
   "execution_count": 4,
   "metadata": {},
   "outputs": [
    {
     "name": "stdout",
     "output_type": "stream",
     "text": [
      "9 of 10 worker ids match\n",
      "Id in output but not summaries: {'Engineer'}\n",
      "Id in summary but not output: {'5c729af09048710001bcdeac'}\n"
     ]
    }
   ],
   "source": [
    "analyze_worker_ids(run, batch, n_q, group, remove_not_val = True)"
   ]
  },
  {
   "cell_type": "markdown",
   "metadata": {},
   "source": [
    "# Contradiction analysis:"
   ]
  },
  {
   "cell_type": "code",
   "execution_count": 7,
   "metadata": {},
   "outputs": [
    {
     "name": "stdout",
     "output_type": "stream",
     "text": [
      "analyzing batch 7\n",
      "Percentage of contradictory pair annotations of total pair annotations:\n",
      "6.19\n",
      "most common contradictions\n",
      "('unusual', 'implied_category') 3\n",
      "('rare', 'typical_of_property') 2\n",
      "('unusual', 'typical_of_property') 2\n",
      "\n",
      "analyzing batch all annotations\n",
      "Percentage of contradictory pair annotations of total pair annotations:\n",
      "22.49\n",
      "most common contradictions\n",
      "('unusual', 'implied_category') 437\n",
      "('unusual', 'typical_of_concept') 331\n",
      "('unusual', 'typical_of_property') 293\n",
      "\n",
      "worker with most contradictions on batch run3-group_experiment1-batch7.csv:\n",
      "worker: Engineer\n",
      "number of contradictions: 8\n",
      "number of all contradictions of Engineer: 8\n",
      "highest number of contradictions by a worker: 43\n",
      "worker with most contradictions in total: 5c1d4d88508cfd000103dc47\n"
     ]
    }
   ],
   "source": [
    "analyze_workers_batch(run, group, batch, n_q)"
   ]
  },
  {
   "cell_type": "markdown",
   "metadata": {},
   "source": [
    "# Attention check analysis:"
   ]
  },
  {
   "cell_type": "code",
   "execution_count": 8,
   "metadata": {},
   "outputs": [
    {
     "name": "stdout",
     "output_type": "stream",
     "text": [
      "Annotations in batch 7: 728\n",
      "Fails in batch 7:\n",
      "find batch analysis here: ../analyses/checks/worker_fails-group_experiment1-run3-batch7.csv\n",
      "Annotations collected so far: 28087\n",
      "highest number of fails: [('celgamerz', 2)]\n",
      "find general analysis here: ../analyses/checks/worker_fails-group_experiment1-so_far.csv\n",
      "find check analysis overview here: ../analyses/checks/fail_types-overviews-so_far.csv\n"
     ]
    }
   ],
   "source": [
    "analyze_batch_checks(run, batch, n_q, group)"
   ]
  },
  {
   "cell_type": "code",
   "execution_count": null,
   "metadata": {},
   "outputs": [],
   "source": []
  }
 ],
 "metadata": {
  "kernelspec": {
   "display_name": "Python 3",
   "language": "python",
   "name": "python3"
  },
  "language_info": {
   "codemirror_mode": {
    "name": "ipython",
    "version": 3
   },
   "file_extension": ".py",
   "mimetype": "text/x-python",
   "name": "python",
   "nbconvert_exporter": "python",
   "pygments_lexer": "ipython3",
   "version": "3.7.3"
  }
 },
 "nbformat": 4,
 "nbformat_minor": 4
}
