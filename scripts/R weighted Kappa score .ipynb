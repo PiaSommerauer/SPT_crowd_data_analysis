{
 "cells": [
  {
   "cell_type": "code",
   "execution_count": 4,
   "metadata": {},
   "outputs": [
    {
     "data": {
      "text/html": [
       "1"
      ],
      "text/latex": [
       "1"
      ],
      "text/markdown": [
       "1"
      ],
      "text/plain": [
       "[1] 1"
      ]
     },
     "metadata": {},
     "output_type": "display_data"
    }
   ],
   "source": [
    "x = 1\n",
    "x\n"
   ]
  },
  {
   "cell_type": "code",
   "execution_count": 1,
   "metadata": {},
   "outputs": [],
   "source": [
    "library(psych)"
   ]
  },
  {
   "cell_type": "code",
   "execution_count": 5,
   "metadata": {},
   "outputs": [
    {
     "data": {
      "text/plain": [
       "Call: cohen.kappa1(x = x, w = w, n.obs = n.obs, alpha = alpha, levels = levels)\n",
       "\n",
       "Cohen Kappa and Weighted Kappa correlation coefficients and confidence boundaries \n",
       "                 lower estimate upper\n",
       "unweighted kappa -0.18     0.00  0.18\n",
       "weighted kappa    0.43     0.68  0.93\n",
       "\n",
       " Number of subjects = 9 "
      ]
     },
     "metadata": {},
     "output_type": "display_data"
    }
   ],
   "source": [
    "#rating data (with thanks to Tim Bates)\n",
    "rater1 = c(1,2,3,4,5,6,7,8,9) # rater one's ratings\n",
    "rater2 = c(1,3,1,6,1,5,5,6,7) # rater one's ratings\n",
    "cohen.kappa(x=cbind(rater1,rater2))"
   ]
  },
  {
   "cell_type": "code",
   "execution_count": 6,
   "metadata": {},
   "outputs": [],
   "source": [
    "#data matrix taken from Cohen\n",
    "cohen <- matrix(c(\n",
    "0.44, 0.07, 0.09,\n",
    "0.05, 0.20, 0.05,\n",
    "0.01, 0.03, 0.06),ncol=3,byrow=TRUE)"
   ]
  },
  {
   "cell_type": "code",
   "execution_count": 8,
   "metadata": {},
   "outputs": [],
   "source": [
    "#cohen.weights  weight differences\n",
    "cohen.weights <- matrix(c(\n",
    "0,1,3,\n",
    "1,0,6,\n",
    "3,6,0),ncol=3)"
   ]
  },
  {
   "cell_type": "code",
   "execution_count": 11,
   "metadata": {},
   "outputs": [
    {
     "name": "stderr",
     "output_type": "stream",
     "text": [
      "Warning message in cohen.kappa1(x, w = w, n.obs = n.obs, alpha = alpha, levels = levels):\n",
      "“upper or lower confidence interval exceed  abs(1)  and set to +/- 1. ”\n"
     ]
    },
    {
     "data": {
      "text/plain": [
       "Call: cohen.kappa1(x = x, w = w, n.obs = n.obs, alpha = alpha, levels = levels)\n",
       "\n",
       "Cohen Kappa and Weighted Kappa correlation coefficients and confidence boundaries \n",
       "                 lower estimate upper\n",
       "unweighted kappa  0.39     0.49  0.59\n",
       "weighted kappa   -0.34     0.35  1.00\n",
       "\n",
       " Number of subjects = 200 "
      ]
     },
     "metadata": {},
     "output_type": "display_data"
    }
   ],
   "source": [
    "cohen.kappa(cohen,cohen.weights,n.obs=200)\n",
    "#cohen reports .492 and .348 "
   ]
  },
  {
   "cell_type": "code",
   "execution_count": null,
   "metadata": {},
   "outputs": [],
   "source": []
  }
 ],
 "metadata": {
  "kernelspec": {
   "display_name": "R",
   "language": "R",
   "name": "ir"
  },
  "language_info": {
   "codemirror_mode": "r",
   "file_extension": ".r",
   "mimetype": "text/x-r-source",
   "name": "R",
   "pygments_lexer": "r",
   "version": "3.6.1"
  }
 },
 "nbformat": 4,
 "nbformat_minor": 4
}
