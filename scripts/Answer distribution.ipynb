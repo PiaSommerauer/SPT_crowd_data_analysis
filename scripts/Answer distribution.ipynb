{
 "cells": [
  {
   "cell_type": "markdown",
   "metadata": {},
   "source": [
    "# Analyze distribution of answers\n",
    "\n",
    "\n",
    "* we expect a single catgory to have most 'true' labels\n",
    "* categorical values and normal distribution - not entirely sure this works\n",
    "* idea: sort labels according to answers"
   ]
  },
  {
   "cell_type": "code",
   "execution_count": 19,
   "metadata": {},
   "outputs": [
    {
     "name": "stdout",
     "output_type": "stream",
     "text": [
      "Discarded 0.0 annotations.\n"
     ]
    }
   ],
   "source": [
    "from load_data import load_experiment_data\n",
    "from utils_analysis import sort_by_key\n",
    "from collections import Counter\n",
    "\n",
    "\n",
    "\n",
    "def get_pair_rel_cnts(data_dict_list):\n",
    "    pair_dicts = sort_by_key(data_dict_list, ['property', 'concept'])\n",
    "    pair_relation_cnts = dict()\n",
    "    for pair, dicts in pair_dicts.items():\n",
    "        if not pair[0].startswith('_'):\n",
    "            relation_dicts = sort_by_key(dicts, ['relation'])\n",
    "            rel_cnt = Counter()\n",
    "            for rel, rel_dicts in relation_dicts.items():\n",
    "                n_true = len([d['answer'] for d in rel_dicts if d['answer'] == 'true'])\n",
    "                rel_cnt[rel] = n_true/len(rel_dicts)\n",
    "            pair_relation_cnts[pair] = rel_cnt\n",
    "    return pair_relation_cnts\n",
    "        \n",
    "        \n",
    "        \n",
    "run = '4'\n",
    "batch = '*'\n",
    "n_q = '*'\n",
    "group = 'experiment2'\n",
    "data_dict_list = load_experiment_data(run, group, n_q, batch, remove_not_val = True)\n",
    "pair_relation_cnts =  get_pair_rel_cnts(data_dict_list)"
   ]
  },
  {
   "cell_type": "code",
   "execution_count": 63,
   "metadata": {},
   "outputs": [
    {
     "name": "stdout",
     "output_type": "stream",
     "text": [
      "black-pea\n",
      "variability_limited 0.7\n",
      "rare 0.7\n",
      "variability_open 0.6\n",
      "unusual 0.5\n",
      "typical_of_concept 0.2\n",
      "creative 0.2\n",
      "affording_activity 0.2\n",
      "implied_category 0.1\n",
      "impossible 0.1\n",
      "typical_of_property 0.1\n",
      "\n",
      "hot-fireplace\n",
      "typical_of_concept 1.0\n",
      "typical_of_property 0.9\n",
      "affording_activity 0.9\n",
      "implied_category 0.8\n",
      "variability_open 0.6\n",
      "variability_limited 0.4\n",
      "rare 0.3\n",
      "unusual 0.2\n",
      "impossible 0.2\n",
      "creative 0.0\n",
      "\n",
      "made_of_wood-strake\n",
      "variability_open 0.9\n",
      "affording_activity 0.6\n",
      "variability_limited 0.5\n",
      "rare 0.5\n",
      "creative 0.5\n",
      "typical_of_concept 0.5\n",
      "implied_category 0.5\n",
      "typical_of_property 0.4\n",
      "unusual 0.3\n",
      "impossible 0.2\n",
      "\n",
      "fly-babbler\n",
      "afforded_usual 0.6\n",
      "typical_of_concept 0.6\n",
      "variability_limited 0.5\n",
      "impossible 0.5\n",
      "typical_of_property 0.5\n",
      "implied_category 0.5\n",
      "rare 0.3\n",
      "creative 0.3\n",
      "unusual 0.1\n",
      "afforded_unusual 0.0\n",
      "\n",
      "sweet-tater\n",
      "variability_limited 0.8\n",
      "variability_open 0.7\n",
      "creative 0.6\n",
      "affording_activity 0.5\n",
      "typical_of_concept 0.5\n",
      "implied_category 0.5\n",
      "typical_of_property 0.4\n",
      "unusual 0.4\n",
      "rare 0.3\n",
      "impossible 0.2\n",
      "\n",
      "dangerous-alligator\n",
      "affording_activity 0.9\n",
      "implied_category 0.8\n",
      "typical_of_concept 0.8\n",
      "typical_of_property 0.6\n",
      "variability_limited 0.4\n",
      "variability_open 0.4\n",
      "rare 0.3\n",
      "unusual 0.3\n",
      "impossible 0.3\n",
      "creative 0.2\n",
      "\n",
      "square-kitchen\n",
      "variability_open 1.0\n",
      "variability_limited 0.6\n",
      "implied_category 0.5\n",
      "typical_of_concept 0.5\n",
      "rare 0.3\n",
      "creative 0.3\n",
      "unusual 0.2\n",
      "impossible 0.2\n",
      "typical_of_property 0.2\n",
      "affording_activity 0.1\n",
      "\n",
      "wheels-driver\n",
      "creative 0.9\n",
      "impossible 0.6\n",
      "affording_activity 0.45454545454545453\n",
      "rare 0.4\n",
      "unusual 0.36363636363636365\n",
      "implied_category 0.36363636363636365\n",
      "typical_of_property 0.2727272727272727\n",
      "typical_of_concept 0.2\n",
      "variability_open 0.2\n",
      "variability_limited 0.1111111111111111\n",
      "\n",
      "made_of_wood-oak\n",
      "affording_activity 1.0\n",
      "typical_of_concept 1.0\n",
      "implied_category 0.9230769230769231\n",
      "variability_limited 0.9\n",
      "typical_of_property 0.8181818181818182\n",
      "creative 0.1\n",
      "impossible 0.1\n",
      "variability_open 0.0\n",
      "unusual 0.0\n",
      "rare 0.0\n",
      "\n",
      "sweet-chicken\n",
      "creative 0.7\n",
      "unusual 0.6666666666666666\n",
      "rare 0.45454545454545453\n",
      "impossible 0.4166666666666667\n",
      "variability_open 0.3\n",
      "variability_limited 0.2222222222222222\n",
      "affording_activity 0.2\n",
      "typical_of_property 0.1111111111111111\n",
      "implied_category 0.1111111111111111\n",
      "typical_of_concept 0.09090909090909091\n",
      "\n"
     ]
    }
   ],
   "source": [
    "n = 0\n",
    "for pair, rel_dict in pair_relation_cnts.items():\n",
    "    print(pair)\n",
    "    for rel, cnt in rel_dict.most_common():\n",
    "        print(rel, cnt)\n",
    "    print()\n",
    "    n += 1\n",
    "    if n == 10:\n",
    "        break"
   ]
  },
  {
   "cell_type": "code",
   "execution_count": 84,
   "metadata": {},
   "outputs": [
    {
     "data": {
      "text/plain": [
       "<BarContainer object of 10 artists>"
      ]
     },
     "execution_count": 84,
     "metadata": {},
     "output_type": "execute_result"
    },
    {
     "data": {
      "image/png": "[encoded data removed]",
      "text/plain": [
       "<Figure size 432x288 with 1 Axes>"
      ]
     },
     "metadata": {
      "needs_background": "light"
     },
     "output_type": "display_data"
    }
   ],
   "source": [
    "import matplotlib.pyplot as plt\n",
    "\n",
    "def get_vec(rel_cnts):\n",
    "    test_keys = []\n",
    "    rank = 0\n",
    "    position = 'left'\n",
    "    for rel, cnt in rel_cnts.most_common():\n",
    "        if position == 'left':\n",
    "            new_rank = 0 - rank\n",
    "            position = 'right'\n",
    "        elif position == 'right':\n",
    "            new_rank = 0 + rank\n",
    "            position = 'left'\n",
    "        test_keys.insert(new_rank, rel)\n",
    "        rank += 1\n",
    "    test_vec = [rel_cnts[k] for k in test_keys]\n",
    "    return test_vec, test_keys\n",
    "    \n",
    "\n",
    "test_pair = 'fly-babbler'\n",
    "rel_cnts = pair_relation_cnts[test_pair]\n",
    "test_vec, test_keys = get_vec(rel_cnts)\n",
    "plt.bar(range(10), test_vec)\n",
    "\n"
   ]
  },
  {
   "cell_type": "code",
   "execution_count": 81,
   "metadata": {},
   "outputs": [
    {
     "data": {
      "text/plain": [
       "<BarContainer object of 10 artists>"
      ]
     },
     "execution_count": 81,
     "metadata": {},
     "output_type": "execute_result"
    },
    {
     "data": {
      "image/png": "[encoded data removed]",
      "text/plain": [
       "<Figure size 432x288 with 1 Axes>"
      ]
     },
     "metadata": {
      "needs_background": "light"
     },
     "output_type": "display_data"
    }
   ],
   "source": [
    "test_pair = 'hot-fireplace'\n",
    "rel_cnts = pair_relation_cnts[test_pair]\n",
    "test_vec, test_keys = get_vec(rel_cnts)\n",
    "plt.bar(range(10), test_vec)"
   ]
  },
  {
   "cell_type": "code",
   "execution_count": 78,
   "metadata": {},
   "outputs": [
    {
     "name": "stdout",
     "output_type": "stream",
     "text": [
      "Normal distribution not expected:\n"
     ]
    },
    {
     "data": {
      "image/png": "[encoded data removed]",
      "text/plain": [
       "<Figure size 432x288 with 1 Axes>"
      ]
     },
     "metadata": {
      "needs_background": "light"
     },
     "output_type": "display_data"
    }
   ],
   "source": [
    "print('Normal distribution not expected:')\n",
    "test_pair = 'fly-babbler'\n",
    "rel_cnts = pair_relation_cnts[test_pair]\n",
    "plt_distribution(rel_cnts)"
   ]
  },
  {
   "cell_type": "code",
   "execution_count": null,
   "metadata": {},
   "outputs": [],
   "source": []
  },
  {
   "cell_type": "code",
   "execution_count": null,
   "metadata": {},
   "outputs": [],
   "source": []
  }
 ],
 "metadata": {
  "kernelspec": {
   "display_name": "Python 3",
   "language": "python",
   "name": "python3"
  },
  "language_info": {
   "codemirror_mode": {
    "name": "ipython",
    "version": 3
   },
   "file_extension": ".py",
   "mimetype": "text/x-python",
   "name": "python",
   "nbconvert_exporter": "python",
   "pygments_lexer": "ipython3",
   "version": "3.7.7"
  }
 },
 "nbformat": 4,
 "nbformat_minor": 4
}
