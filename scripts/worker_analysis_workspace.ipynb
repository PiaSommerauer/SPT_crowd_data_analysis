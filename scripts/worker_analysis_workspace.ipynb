{
 "cells": [
  {
   "cell_type": "code",
   "execution_count": 1,
   "metadata": {},
   "outputs": [],
   "source": [
    "from analyze_contradictions import analyze_workers_batch\n",
    "from analyze_checks import analyze_batch_checks\n",
    "from match_workerids import analyze_worker_ids"
   ]
  },
  {
   "cell_type": "markdown",
   "metadata": {},
   "source": [
    "# Enter batch to analyze:"
   ]
  },
  {
   "cell_type": "code",
   "execution_count": 10,
   "metadata": {},
   "outputs": [],
   "source": [
    "run = 3\n",
    "batch = 8\n",
    "n_q = 70\n",
    "group = 'experiment1'"
   ]
  },
  {
   "cell_type": "markdown",
   "metadata": {},
   "source": [
    "# Check if all ids match\n",
    "\n",
    "If not, this should show you the correct mapping (if there is only one which does not match):"
   ]
  },
  {
   "cell_type": "code",
   "execution_count": 7,
   "metadata": {},
   "outputs": [],
   "source": [
    "exp_path = f'run{run}-group_{group}/qu{n_q}-s_qu{n_q}-batch{batch}.csv'\n",
    "analyze_worker_ids(exp_path, remove_not_val = True)"
   ]
  },
  {
   "cell_type": "markdown",
   "metadata": {},
   "source": [
    "# Contradiction analysis:"
   ]
  },
  {
   "cell_type": "code",
   "execution_count": 12,
   "metadata": {},
   "outputs": [
    {
     "name": "stdout",
     "output_type": "stream",
     "text": [
      "analyzing batch 8\n",
      "Percentage of contradictory pair annotations of total pair annotations:\n",
      "9.86\n",
      "most common contradictions\n",
      "('rare', 'affording_activity') 7\n",
      "('affording_activity', 'unusual') 5\n",
      "('impossible', 'affording_activity') 4\n",
      "\n",
      "analyzing batch all annotations\n",
      "Percentage of contradictory pair annotations of total pair annotations:\n",
      "22.56\n",
      "most common contradictions\n",
      "('implied_category', 'unusual') 438\n",
      "('typical_of_concept', 'unusual') 331\n",
      "('typical_of_property', 'unusual') 293\n",
      "\n",
      "worker with most contradictions on batch run3-group_experiment1-batch8.csv:\n",
      "worker: 5dac6532ccaa330016e11e8f\n",
      "number of contradictions: 15\n",
      "number of all contradictions of 5dac6532ccaa330016e11e8f: 15\n",
      "highest number of contradictions by a worker: 43\n",
      "worker with most contradictions in total: 5c1d4d88508cfd000103dc47\n"
     ]
    }
   ],
   "source": [
    "analyze_workers_batch(run, group, batch, n_q)"
   ]
  },
  {
   "cell_type": "markdown",
   "metadata": {},
   "source": [
    "# Attention check analysis:"
   ]
  },
  {
   "cell_type": "code",
   "execution_count": 14,
   "metadata": {},
   "outputs": [
    {
     "name": "stdout",
     "output_type": "stream",
     "text": [
      "Annotations in batch 8: 882\n",
      "Workers with fails in batch 8: 1\n",
      "5dac6532ccaa330016e11e8f - number of fails: 1 - types of fails 1\n",
      "\n",
      "find batch analysis here: ../analyses/checks/worker_fails-group_experiment1-run3-batch8.csv\n",
      "5dac6532ccaa330016e11e8f\n",
      "\"Green\" is one of the first things which come to mind when I hear \"beer\". \n",
      "Annotations collected so far: 28969\n",
      "highest number of fails: [('5de122c7ff15c24523bccf21', 2)]\n",
      "\n",
      "find general analysis here: ../analyses/checks/worker_fails-group_experiment1-so_far.csv\n",
      "find check analysis overview here: ../analyses/checks/fail_types-overviews-so_far.csv\n",
      "\n",
      "worker 5dac6532ccaa330016e11e8f has a total of 1 fails\n"
     ]
    }
   ],
   "source": [
    "analyze_batch_checks(run, batch, n_q, group)"
   ]
  },
  {
   "cell_type": "code",
   "execution_count": null,
   "metadata": {},
   "outputs": [],
   "source": []
  }
 ],
 "metadata": {
  "kernelspec": {
   "display_name": "Python 3",
   "language": "python",
   "name": "python3"
  },
  "language_info": {
   "codemirror_mode": {
    "name": "ipython",
    "version": 3
   },
   "file_extension": ".py",
   "mimetype": "text/x-python",
   "name": "python",
   "nbconvert_exporter": "python",
   "pygments_lexer": "ipython3",
   "version": "3.7.3"
  }
 },
 "nbformat": 4,
 "nbformat_minor": 4
}
