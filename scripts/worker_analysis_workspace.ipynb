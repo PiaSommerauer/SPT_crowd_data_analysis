{
 "cells": [
  {
   "cell_type": "code",
   "execution_count": 1,
   "metadata": {},
   "outputs": [],
   "source": [
    "from analyze_contradictions import analyze_workers_batch\n",
    "from analyze_checks import analyze_batch_checks\n",
    "from analyze_iaa import get_agreement\n",
    "from match_workerids import analyze_worker_ids"
   ]
  },
  {
   "cell_type": "markdown",
   "metadata": {},
   "source": [
    "# Enter batch to analyze:"
   ]
  },
  {
   "cell_type": "code",
   "execution_count": 2,
   "metadata": {},
   "outputs": [],
   "source": [
    "run = 3\n",
    "batch = 11\n",
    "n_q = 70\n",
    "group = 'experiment1'"
   ]
  },
  {
   "cell_type": "markdown",
   "metadata": {},
   "source": [
    "# Check if all ids match\n",
    "\n",
    "If not, this should show you the correct mapping (if there is only one which does not match):"
   ]
  },
  {
   "cell_type": "code",
   "execution_count": 3,
   "metadata": {},
   "outputs": [
    {
     "name": "stdout",
     "output_type": "stream",
     "text": [
      "10 out of 11 match.\n",
      "invalid submission in output\n",
      "Id in output but not summaries: 5e7892cdb6b58940157a6121\n",
      "Id in summary but not output: NS\n"
     ]
    }
   ],
   "source": [
    "exp_path = f'run{run}-group_{group}/qu{n_q}-s_qu{n_q}-batch{batch}.csv'\n",
    "analyze_worker_ids(exp_path, remove_not_val = True, v = True)"
   ]
  },
  {
   "cell_type": "markdown",
   "metadata": {},
   "source": [
    "# Contradiction analysis:"
   ]
  },
  {
   "cell_type": "code",
   "execution_count": 4,
   "metadata": {},
   "outputs": [
    {
     "name": "stdout",
     "output_type": "stream",
     "text": [
      "analyzing batch 11\n",
      "Percentage of contradictory pair annotations of total pair annotations:\n",
      "11.25\n",
      "most common contradictions\n",
      "('affording_activity', 'unusual') 9\n",
      "('rare', 'affording_activity') 7\n",
      "('unusual', 'implied_category') 7\n",
      "\n",
      "analyzing batch all annotations\n",
      "Percentage of contradictory pair annotations of total pair annotations:\n",
      "21.71\n",
      "most common contradictions\n",
      "('unusual', 'implied_category') 453\n",
      "('typical_of_concept', 'unusual') 340\n",
      "('typical_of_property', 'unusual') 299\n",
      "\n",
      "worker with most contradictions on batch run3-group_experiment1-batch11.csv:\n",
      "worker: 5e76ab49dec4562243b421f9\n",
      "number of contradictions: 35\n",
      "number of all contradictions of 5e76ab49dec4562243b421f9: 35\n",
      "highest number of contradictions by a worker: 45\n",
      "worker with most contradictions in total: 5d76a2dc2a476a0001ce6843\n",
      "\n",
      "analyzing all annotations of run 1\n",
      "Percentage of contradictory pair annotations of total pair annotations:\n",
      "26.91\n",
      "most common contradictions\n",
      "('unusual', 'implied_category') 395\n",
      "('typical_of_concept', 'unusual') 294\n",
      "('typical_of_property', 'unusual') 269\n",
      "\n",
      "\n",
      "analyzing all annotations of run 3\n",
      "Percentage of contradictory pair annotations of total pair annotations:\n",
      "12.34\n",
      "most common contradictions\n",
      "('affording_activity', 'unusual') 63\n",
      "('unusual', 'implied_category') 58\n",
      "('rare', 'affording_activity') 57\n"
     ]
    }
   ],
   "source": [
    "analyze_workers_batch(run, group, batch, n_q)"
   ]
  },
  {
   "cell_type": "markdown",
   "metadata": {},
   "source": [
    "# Attention check analysis:"
   ]
  },
  {
   "cell_type": "code",
   "execution_count": 5,
   "metadata": {},
   "outputs": [
    {
     "name": "stdout",
     "output_type": "stream",
     "text": [
      "Annotations in batch 11: 792\n",
      "Workers with fails in batch 11: 4\n",
      "5c35e108f5ebd5000184599e - number of fails: 1 - types of fails 1\n",
      "5c6fc2aae51f6c0001dd2fa1 - number of fails: 1 - types of fails 1\n",
      "5e7353b6b1f71c29e03fab79 - number of fails: 1 - types of fails 1\n",
      "5e76ab49dec4562243b421f9 - number of fails: 2 - types of fails 2\n",
      "\n",
      "find batch analysis here: ../analyses/checks/worker_fails-group_experiment1-run3-batch11.csv\n",
      "5c35e108f5ebd5000184599e\n",
      "I am answering questions at random. \n",
      "5c6fc2aae51f6c0001dd2fa1\n",
      "I am answering questions at random. \n",
      "5e7353b6b1f71c29e03fab79\n",
      "I am answering questions at random. \n",
      "5e76ab49dec4562243b421f9\n",
      "I am answering questions at random. \n",
      "\"Yellow\" is one of the first things which come to mind when I hear \"canary\". \n",
      "Annotations collected so far: 30491\n",
      "highest number of fails: [('5de122c7ff15c24523bccf21', 2)]\n",
      "\n",
      "find general analysis here: ../analyses/checks/worker_fails-group_experiment1-so_far.csv\n",
      "find check analysis overview here: ../analyses/checks/fail_types-overviews-so_far.csv\n",
      "\n",
      "worker 5c35e108f5ebd5000184599e has a total of 1 fails\n",
      "worker 5c6fc2aae51f6c0001dd2fa1 has a total of 1 fails\n",
      "worker 5e7353b6b1f71c29e03fab79 has a total of 1 fails\n",
      "worker 5e76ab49dec4562243b421f9 has a total of 2 fails\n"
     ]
    }
   ],
   "source": [
    "analyze_batch_checks(run, batch, n_q, group)"
   ]
  },
  {
   "cell_type": "markdown",
   "metadata": {},
   "source": [
    "# Inter-annotator agreement\n",
    "\n",
    "Compare both runs in original version and version without annotations in which annotators contradict themselves:"
   ]
  },
  {
   "cell_type": "code",
   "execution_count": null,
   "metadata": {},
   "outputs": [],
   "source": [
    "\n",
    "run = 1\n",
    "group = 'experiment1'\n",
    "batch = '*'\n",
    "n_q = '*'\n",
    "statuses = ['original', 'clean']\n",
    "print(f'--- analyzing run {run} ---')\n",
    "for status in statuses:\n",
    "    get_agreement(run, group, batch, n_q, status)\n",
    "\n",
    "\n",
    "\n",
    "run = 3\n",
    "group = 'experiment1'\n",
    "batch = '*'\n",
    "n_q = '*'\n",
    "statuses = ['original', 'clean']\n",
    "print(f'--- analyzing run {run} ---')\n",
    "for status in statuses:\n",
    "    get_agreement(run, group, batch, n_q, status)"
   ]
  },
  {
   "cell_type": "code",
   "execution_count": null,
   "metadata": {},
   "outputs": [],
   "source": []
  }
 ],
 "metadata": {
  "kernelspec": {
   "display_name": "Python 3",
   "language": "python",
   "name": "python3"
  },
  "language_info": {
   "codemirror_mode": {
    "name": "ipython",
    "version": 3
   },
   "file_extension": ".py",
   "mimetype": "text/x-python",
   "name": "python",
   "nbconvert_exporter": "python",
   "pygments_lexer": "ipython3",
   "version": "3.7.3"
  }
 },
 "nbformat": 4,
 "nbformat_minor": 4
}
