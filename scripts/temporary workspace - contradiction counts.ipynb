{
 "cells": [
  {
   "cell_type": "markdown",
   "metadata": {},
   "source": [
    "# Inter-annotator agreement analyses\n",
    "\n",
    "\n",
    "**To do:**\n",
    "\n",
    "* Compare agreement between pairs with contradictory annotations and pairs without (of cleaned and uncleaned data)\n",
    "* Remove workers with contradictions and check fails\n",
    "* Test what happens to agreement if we collapse all annotations in a single group. \n",
    "\n",
    "**Done:**\n",
    "* Remove pair-annotations if they are contradictory [done]\n",
    "* Remove workers who fail checks [done]\n",
    "* Remove workers with high contradictions [done]\n",
    "\n",
    "\n",
    "\n",
    "\n",
    "## Relation evaluation:\n",
    "\n",
    "* relations with most contradictions are probably difficult\n",
    "\n",
    "## Example evaluation:\n",
    "\n",
    "* Some examples may be missleading"
   ]
  },
  {
   "cell_type": "code",
   "execution_count": 1,
   "metadata": {},
   "outputs": [
    {
     "name": "stdout",
     "output_type": "stream",
     "text": [
      "Discarded 10.0 annotations.\n"
     ]
    }
   ],
   "source": [
    "# remove singletons\n",
    "\n",
    "from load_data import load_experiment_data\n",
    "from utils_analysis import sort_by_key\n",
    "\n",
    "run = 3\n",
    "batch = 16\n",
    "n_q = 70\n",
    "group = 'experiment1'\n",
    "\n",
    "data_dict_list = load_experiment_data(run, group, n_q, batch, remove_not_val = True)"
   ]
  },
  {
   "cell_type": "code",
   "execution_count": 2,
   "metadata": {},
   "outputs": [],
   "source": [
    "\n",
    "def remove_singletons(data_dict_list):\n",
    "    clean_data = []\n",
    "    data_by_pair = sort_by_key(data_dict_list, ['property', 'concept'])\n",
    "    for pair, dl in data_by_pair.items():\n",
    "        data_by_relation = sort_by_key(dl, ['relation'])\n",
    "        if len(data_by_relation) == 1:\n",
    "            relation = list(data_by_relation.keys())[0]\n",
    "            if relation != '_check' and not relation.startswith('test_'):\n",
    "                continue\n",
    "            else:\n",
    "                clean_data.extend(dl)\n",
    "        else:\n",
    "            clean_data.extend(dl)\n",
    "    return clean_data\n",
    "        \n",
    "clean_data = remove_singletons(data_dict_list)"
   ]
  },
  {
   "cell_type": "code",
   "execution_count": 18,
   "metadata": {},
   "outputs": [
    {
     "name": "stdout",
     "output_type": "stream",
     "text": [
      "780\n"
     ]
    }
   ],
   "source": [
    "print(len(clean_data))"
   ]
  },
  {
   "cell_type": "code",
   "execution_count": null,
   "metadata": {},
   "outputs": [],
   "source": []
  }
 ],
 "metadata": {
  "kernelspec": {
   "display_name": "Python 3",
   "language": "python",
   "name": "python3"
  },
  "language_info": {
   "codemirror_mode": {
    "name": "ipython",
    "version": 3
   },
   "file_extension": ".py",
   "mimetype": "text/x-python",
   "name": "python",
   "nbconvert_exporter": "python",
   "pygments_lexer": "ipython3",
   "version": "3.7.3"
  }
 },
 "nbformat": 4,
 "nbformat_minor": 4
}
