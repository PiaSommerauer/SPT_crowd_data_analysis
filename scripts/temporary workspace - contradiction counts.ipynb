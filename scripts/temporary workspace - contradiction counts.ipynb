{
 "cells": [
  {
   "cell_type": "markdown",
   "metadata": {},
   "source": [
    "# Worker evaluation and filtering\n",
    "\n",
    "* get a ranking of all workers based on contradictions and test questions \n",
    "* check test question counting code again\n",
    "* See if there is a selection of top workers and test whether they have higher agreement than the others\n",
    "* Perhaps consider putting them on a list of selected top workers with more salary\n",
    "\n",
    "\n",
    "**Note for later** Test what happens to agreement if we collapse all annotations in a single group. \n",
    "\n",
    "\n",
    "# Further steps:\n",
    "\n",
    "* add pair and relation evaluation and set up something similar to crowd truth\n",
    "\n",
    "\n",
    "## Pair evaluation: \n",
    "\n",
    "* pairs with many annotators contradicting themselves are probably difficult (likely because of polysemy)\n",
    "\n",
    "\n",
    "## Relation evaluation:\n",
    "\n",
    "* relations with most contradictions are probably difficult\n",
    "\n",
    "## Example evaluation:\n",
    "\n",
    "* Some examples may be missleading"
   ]
  },
  {
   "cell_type": "code",
   "execution_count": 7,
   "metadata": {},
   "outputs": [
    {
     "name": "stdout",
     "output_type": "stream",
     "text": [
      "analyze pairs_contradictions\n",
      "Found 10619 clean annotations.\n",
      "Round 2492 to remove.\n",
      "\n",
      "analyze worker_contradictions\n",
      "Found 4930 clean annotations.\n",
      "Round 8103 to remove.\n",
      "\n",
      "analyze worker_checks\n",
      "Found 10766 clean annotations.\n",
      "Round 2267 to remove.\n",
      "\n"
     ]
    }
   ],
   "source": []
  },
  {
   "cell_type": "code",
   "execution_count": null,
   "metadata": {},
   "outputs": [],
   "source": []
  },
  {
   "cell_type": "code",
   "execution_count": null,
   "metadata": {},
   "outputs": [],
   "source": []
  },
  {
   "cell_type": "code",
   "execution_count": null,
   "metadata": {},
   "outputs": [],
   "source": []
  },
  {
   "cell_type": "code",
   "execution_count": null,
   "metadata": {},
   "outputs": [],
   "source": []
  }
 ],
 "metadata": {
  "kernelspec": {
   "display_name": "Python 3",
   "language": "python",
   "name": "python3"
  },
  "language_info": {
   "codemirror_mode": {
    "name": "ipython",
    "version": 3
   },
   "file_extension": ".py",
   "mimetype": "text/x-python",
   "name": "python",
   "nbconvert_exporter": "python",
   "pygments_lexer": "ipython3",
   "version": "3.7.3"
  }
 },
 "nbformat": 4,
 "nbformat_minor": 4
}
