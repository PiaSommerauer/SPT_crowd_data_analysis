{
 "cells": [
  {
   "cell_type": "code",
   "execution_count": 17,
   "metadata": {},
   "outputs": [],
   "source": [
    "from load_data import load_expert_data\n",
    "\n",
    "from analyze_workers import get_worker_analysis, get_worker_contradiction_outlier_analysis\n",
    "from calculate_iaa import get_agreement, get_kappa_pairs\n",
    "from calculate_iaa import create_matrix\n",
    "from calculate_iaa import get_full_report\n",
    "from utils_analysis import sort_by_key\n",
    "import csv"
   ]
  },
  {
   "cell_type": "code",
   "execution_count": 2,
   "metadata": {},
   "outputs": [
    {
     "name": "stdout",
     "output_type": "stream",
     "text": [
      "Discarded 0.0 annotations.\n"
     ]
    },
    {
     "data": {
      "text/html": [
       "<div>\n",
       "<style scoped>\n",
       "    .dataframe tbody tr th:only-of-type {\n",
       "        vertical-align: middle;\n",
       "    }\n",
       "\n",
       "    .dataframe tbody tr th {\n",
       "        vertical-align: top;\n",
       "    }\n",
       "\n",
       "    .dataframe thead th {\n",
       "        text-align: right;\n",
       "    }\n",
       "</style>\n",
       "<table border=\"1\" class=\"dataframe\">\n",
       "  <thead>\n",
       "    <tr style=\"text-align: right;\">\n",
       "      <th></th>\n",
       "      <th>workerid</th>\n",
       "      <th>contradiction_poss_contradiction_ratio</th>\n",
       "      <th>n_contradictions</th>\n",
       "      <th>n_fails</th>\n",
       "      <th>n_annotations</th>\n",
       "    </tr>\n",
       "  </thead>\n",
       "  <tbody>\n",
       "    <tr>\n",
       "      <th>0</th>\n",
       "      <td>antske_run1b</td>\n",
       "      <td>0.0</td>\n",
       "      <td>0</td>\n",
       "      <td>0</td>\n",
       "      <td>30</td>\n",
       "    </tr>\n",
       "    <tr>\n",
       "      <th>1</th>\n",
       "      <td>pia run 1</td>\n",
       "      <td>0.0</td>\n",
       "      <td>0</td>\n",
       "      <td>0</td>\n",
       "      <td>30</td>\n",
       "    </tr>\n",
       "    <tr>\n",
       "      <th>2</th>\n",
       "      <td>Piek run-1</td>\n",
       "      <td>0.0</td>\n",
       "      <td>0</td>\n",
       "      <td>0</td>\n",
       "      <td>30</td>\n",
       "    </tr>\n",
       "    <tr>\n",
       "      <th>3</th>\n",
       "      <td>antske_run1</td>\n",
       "      <td>0.0</td>\n",
       "      <td>0</td>\n",
       "      <td>0</td>\n",
       "      <td>5</td>\n",
       "    </tr>\n",
       "  </tbody>\n",
       "</table>\n",
       "</div>"
      ],
      "text/plain": [
       "       workerid  contradiction_poss_contradiction_ratio  n_contradictions  \\\n",
       "0  antske_run1b                                     0.0                 0   \n",
       "1     pia run 1                                     0.0                 0   \n",
       "2    Piek run-1                                     0.0                 0   \n",
       "3   antske_run1                                     0.0                 0   \n",
       "\n",
       "   n_fails  n_annotations  \n",
       "0        0             30  \n",
       "1        0             30  \n",
       "2        0             30  \n",
       "3        0              5  "
      ]
     },
     "execution_count": 2,
     "metadata": {},
     "output_type": "execute_result"
    }
   ],
   "source": [
    "\n",
    "run = 4\n",
    "group = 'expert_inspection1'\n",
    "n_q = 30\n",
    "batch = '*'\n",
    "data_dict_list = load_expert_data(run, group, n_q, batch)\n",
    "\n",
    "\n",
    "name = f'run{run}-group_{group}-batch{batch}'.replace('*', '-all-')\n",
    "df, filepath = get_worker_analysis(data_dict_list, name)\n",
    "df.drop(['annotations'], axis = 1, inplace=True)\n",
    "df[['workerid', 'contradiction_poss_contradiction_ratio', 'n_contradictions', 'n_fails', 'n_annotations']]"
   ]
  },
  {
   "cell_type": "code",
   "execution_count": 12,
   "metadata": {},
   "outputs": [
    {
     "name": "stdout",
     "output_type": "stream",
     "text": [
      "Discarded 0.0 annotations.\n"
     ]
    },
    {
     "data": {
      "text/html": [
       "<div>\n",
       "<style scoped>\n",
       "    .dataframe tbody tr th:only-of-type {\n",
       "        vertical-align: middle;\n",
       "    }\n",
       "\n",
       "    .dataframe tbody tr th {\n",
       "        vertical-align: top;\n",
       "    }\n",
       "\n",
       "    .dataframe thead th {\n",
       "        text-align: right;\n",
       "    }\n",
       "</style>\n",
       "<table border=\"1\" class=\"dataframe\">\n",
       "  <thead>\n",
       "    <tr style=\"text-align: right;\">\n",
       "      <th></th>\n",
       "      <th>average_time_pair</th>\n",
       "      <th>contradiction_annotation_ratio</th>\n",
       "      <th>contradiction_poss_contradiction_ratio</th>\n",
       "      <th>n_annotations</th>\n",
       "      <th>n_contradictions</th>\n",
       "      <th>n_possible_contradictions</th>\n",
       "      <th>n_workers</th>\n",
       "      <th>n_workers_contradicting</th>\n",
       "      <th>pair</th>\n",
       "      <th>ratio_workers_contradicting</th>\n",
       "      <th>workers_contradicting</th>\n",
       "      <th>workers_not_contradicting</th>\n",
       "    </tr>\n",
       "  </thead>\n",
       "  <tbody>\n",
       "    <tr>\n",
       "      <th>0</th>\n",
       "      <td>0.0</td>\n",
       "      <td>0.0</td>\n",
       "      <td>0.0</td>\n",
       "      <td>30</td>\n",
       "      <td>0</td>\n",
       "      <td>45</td>\n",
       "      <td>3</td>\n",
       "      <td>0</td>\n",
       "      <td>fly-arrow</td>\n",
       "      <td>0.0</td>\n",
       "      <td></td>\n",
       "      <td>antske_run1b pia run 1 Piek run-1</td>\n",
       "    </tr>\n",
       "    <tr>\n",
       "      <th>1</th>\n",
       "      <td>0.0</td>\n",
       "      <td>0.0</td>\n",
       "      <td>0.0</td>\n",
       "      <td>14</td>\n",
       "      <td>0</td>\n",
       "      <td>0</td>\n",
       "      <td>4</td>\n",
       "      <td>0</td>\n",
       "      <td>roll-pin</td>\n",
       "      <td>0.0</td>\n",
       "      <td></td>\n",
       "      <td>antske_run1b pia run 1 Piek run-1 antske_run1</td>\n",
       "    </tr>\n",
       "    <tr>\n",
       "      <th>2</th>\n",
       "      <td>0.0</td>\n",
       "      <td>0.0</td>\n",
       "      <td>0.0</td>\n",
       "      <td>19</td>\n",
       "      <td>0</td>\n",
       "      <td>0</td>\n",
       "      <td>4</td>\n",
       "      <td>0</td>\n",
       "      <td>yellow-buttercup</td>\n",
       "      <td>0.0</td>\n",
       "      <td></td>\n",
       "      <td>antske_run1b pia run 1 Piek run-1 antske_run1</td>\n",
       "    </tr>\n",
       "    <tr>\n",
       "      <th>3</th>\n",
       "      <td>0.0</td>\n",
       "      <td>0.0</td>\n",
       "      <td>0.0</td>\n",
       "      <td>32</td>\n",
       "      <td>0</td>\n",
       "      <td>46</td>\n",
       "      <td>4</td>\n",
       "      <td>0</td>\n",
       "      <td>roll-tire</td>\n",
       "      <td>0.0</td>\n",
       "      <td></td>\n",
       "      <td>antske_run1b pia run 1 Piek run-1 antske_run1</td>\n",
       "    </tr>\n",
       "  </tbody>\n",
       "</table>\n",
       "</div>"
      ],
      "text/plain": [
       "   average_time_pair  contradiction_annotation_ratio  \\\n",
       "0                0.0                             0.0   \n",
       "1                0.0                             0.0   \n",
       "2                0.0                             0.0   \n",
       "3                0.0                             0.0   \n",
       "\n",
       "   contradiction_poss_contradiction_ratio  n_annotations  n_contradictions  \\\n",
       "0                                     0.0             30                 0   \n",
       "1                                     0.0             14                 0   \n",
       "2                                     0.0             19                 0   \n",
       "3                                     0.0             32                 0   \n",
       "\n",
       "   n_possible_contradictions  n_workers  n_workers_contradicting  \\\n",
       "0                         45          3                        0   \n",
       "1                          0          4                        0   \n",
       "2                          0          4                        0   \n",
       "3                         46          4                        0   \n",
       "\n",
       "               pair  ratio_workers_contradicting workers_contradicting  \\\n",
       "0         fly-arrow                          0.0                         \n",
       "1          roll-pin                          0.0                         \n",
       "2  yellow-buttercup                          0.0                         \n",
       "3         roll-tire                          0.0                         \n",
       "\n",
       "                       workers_not_contradicting  \n",
       "0              antske_run1b pia run 1 Piek run-1  \n",
       "1  antske_run1b pia run 1 Piek run-1 antske_run1  \n",
       "2  antske_run1b pia run 1 Piek run-1 antske_run1  \n",
       "3  antske_run1b pia run 1 Piek run-1 antske_run1  "
      ]
     },
     "execution_count": 12,
     "metadata": {},
     "output_type": "execute_result"
    }
   ],
   "source": [
    "run = 4\n",
    "group = 'expert_inspection1'\n",
    "n_q = 30\n",
    "batch = '*'\n",
    "\n",
    "data_dict_list = load_expert_data(run, group, n_q, batch)\n",
    "name = f'run{run}-group_{group}-batch{batch}'.replace('*', '-all-')\n",
    "df, filepath = get_pair_analysis(data_dict_list, name)\n",
    "df.drop(['annotations_with_contradiction'], axis = 1, inplace=True)\n",
    "df"
   ]
  },
  {
   "cell_type": "markdown",
   "metadata": {},
   "source": [
    "## Agreement overview"
   ]
  },
  {
   "cell_type": "code",
   "execution_count": 5,
   "metadata": {
    "scrolled": true
   },
   "outputs": [
    {
     "name": "stdout",
     "output_type": "stream",
     "text": [
      "full\n",
      "Krippendorff 0.6777142857142857\n",
      "Proportional 0.8722222222222221\n",
      "Av_Cohens_kappa 0.6258697087731723\n",
      "\n",
      "pos_neg\n",
      "Krippendorff 1.0\n",
      "Proportional 1.0\n",
      "Av_Cohens_kappa 1.0\n",
      "\n",
      "levels\n",
      "Krippendorff 1.0\n",
      "Proportional 0.8\n",
      "Av_Cohens_kappa 1.0\n",
      "\n",
      "similar_relations\n",
      "Krippendorff 0.7082228116710876\n",
      "Proportional 0.6666666666666666\n",
      "Av_Cohens_kappa 0.790909090909091\n",
      "\n"
     ]
    }
   ],
   "source": [
    "\n",
    "\n",
    "# Agreement collapsed\n",
    "\n",
    "full_report = get_full_report(data_dict_list)\n",
    "for collapsed_set, scores in full_report.items():\n",
    "    print(collapsed_set)\n",
    "    for n, s in scores.items():\n",
    "        print(n, s)\n",
    "    print()"
   ]
  },
  {
   "cell_type": "markdown",
   "metadata": {},
   "source": [
    "## Agreement by annotator pair"
   ]
  },
  {
   "cell_type": "code",
   "execution_count": 8,
   "metadata": {},
   "outputs": [
    {
     "name": "stdout",
     "output_type": "stream",
     "text": [
      "('antske_run1b', 'pia run 1') 0.6273291925465838\n",
      "('Piek run-1', 'pia run 1') 0.6610169491525424\n",
      "('antske_run1b', 'Piek run-1') 0.8305084745762712\n"
     ]
    }
   ],
   "source": [
    "\n",
    "matrix = create_matrix(data_dict_list)\n",
    "pair_kappa_dict = get_kappa_pairs(matrix)\n",
    "\n",
    "for pair, k in pair_kappa_dict.items():\n",
    "    if 'antske_run1' not in pair:\n",
    "        print(pair, k)"
   ]
  },
  {
   "cell_type": "markdown",
   "metadata": {},
   "source": [
    "# Analyzing disagreements"
   ]
  },
  {
   "cell_type": "code",
   "execution_count": 25,
   "metadata": {
    "scrolled": true
   },
   "outputs": [
    {
     "name": "stdout",
     "output_type": "stream",
     "text": [
      "typical_of_property-fly-arrow\n",
      "typical_of_concept-fly-arrow\n",
      "afforded_usual-fly-arrow\n",
      "variability_limited-fly-arrow\n",
      "creative-fly-arrow\n",
      "rare-fly-arrow\n",
      "unusual-fly-arrow\n",
      "impossible-fly-arrow\n",
      "creative-roll-pin\n",
      "unusual-roll-pin\n",
      "impossible-roll-pin\n",
      "implied_category-yellow-buttercup\n",
      "typical_of_property-yellow-buttercup\n",
      "typical_of_concept-yellow-buttercup\n",
      "variability_limited-yellow-buttercup\n",
      "variability_open-yellow-buttercup\n",
      "typical_of_concept-roll-tire\n",
      "afforded_unusual-roll-tire\n",
      "afforded_usual-roll-tire\n",
      "variability_limited-roll-tire\n",
      "creative-roll-tire\n",
      "rare-roll-tire\n",
      "unusual-roll-tire\n",
      "impossible-roll-tire\n"
     ]
    }
   ],
   "source": [
    "report_rows = []\n",
    "data_by_pair  = sort_by_key(data_dict_list, ['property', 'concept'])\n",
    "for pair, dicts in data_by_pair.items():\n",
    "\n",
    "    relation_dicts = sort_by_key(dicts, ['relation'])\n",
    "    for rel, dicts in relation_dicts.items():\n",
    "        answers = set(d['answer'] for d in dicts if d['workerid'])\n",
    "        if len(answers) != 1:\n",
    "            for d in dicts:\n",
    "                row_d = dict()\n",
    "                row_d['triple'] = rel+'-'+pair\n",
    "                row_d['worker'] = d['workerid']\n",
    "                row_d['answer'] = d['answer']\n",
    "                #print(pair, rel, '\\t', d['workerid'], d['answer'])\n",
    "                report_rows.append(row_d)\n",
    "        else:\n",
    "            print(rel+'-'+pair)\n",
    "            #print()"
   ]
  },
  {
   "cell_type": "code",
   "execution_count": 26,
   "metadata": {},
   "outputs": [],
   "source": [
    "header = report_rows[0].keys()\n",
    "with open(f'../analyses/expert_annotations/report_{group}.csv', 'w') as outfile:\n",
    "    writer = csv.DictWriter(outfile, fieldnames = header)\n",
    "    writer.writeheader()\n",
    "    for r in report_rows:\n",
    "        writer.writerow(r)"
   ]
  },
  {
   "cell_type": "code",
   "execution_count": null,
   "metadata": {},
   "outputs": [],
   "source": []
  }
 ],
 "metadata": {
  "kernelspec": {
   "display_name": "Python 3",
   "language": "python",
   "name": "python3"
  },
  "language_info": {
   "codemirror_mode": {
    "name": "ipython",
    "version": 3
   },
   "file_extension": ".py",
   "mimetype": "text/x-python",
   "name": "python",
   "nbconvert_exporter": "python",
   "pygments_lexer": "ipython3",
   "version": "3.7.7"
  }
 },
 "nbformat": 4,
 "nbformat_minor": 4
}
