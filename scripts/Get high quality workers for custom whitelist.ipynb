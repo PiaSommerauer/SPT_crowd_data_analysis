{
 "cells": [
  {
   "cell_type": "code",
   "execution_count": 5,
   "metadata": {},
   "outputs": [
    {
     "name": "stdout",
     "output_type": "stream",
     "text": [
      "# whitelist workers: 78\n",
      "5eb2ea2b9351610abade8225,5784d25070c76a00012427e0,5eb13fb1282a7720b4457279,5e6e35cac8f7653d80726811,5e1b28d4d370f435a62cfbe2,5eb2ef561f70080aa5d588fa,5eb28e18eb119a0008753331,5c17fd7ef596b100011cb3ff,5d6aeb25a6a4220015010bd6,5ea693e4c7977b01157ba82c,5c6158304fde3d0001474c20,5ba9a99738803d00012729de,5e1103e212e922000bc4bdf9,5ea97250db6f030701177314,5de94617c977a603040fb476,5b7182ec8050b700017937f6,5ea0a51b1c8b440887f8feb0,5e7e98f96690425758a542a4,5d7e958879a24e0001ac34b1,5ea0448e208a8a03174218a0,5e9aa4a4e138f41449cf4fec,5ea6c1286ccbe803c2e897a4,5e84faf83b57400e1c911bcc,5e6a97d6d5745d0522c116ed,5cb92adbe0e8ab000176f421,5c4082b3fe87360001a55874,5c10fe729c4aaf000137f289,58dcfd5a09694a0001a35e0b,5dd329ea83e30933d49ae7d4,5c8d061ec28618001584dea7,5aae762bc4e8f200014b3f88,5c8e2225f756d40018119826,5c0a4b3cd26cd500010383fe,59a0521a6da1d30001c31444,5c7515e980f4f000124d2e36,5eb098012ba1fe14fd397199,5dc57803c19a5c3e7ae8f683,5eb2e69224e26609bb9c62fe,5d50fbe64e3713001a005a19,5e71e26df2bff10008cc9797,5ca7b68facdc6c00165e4985,5ce2cde71d1060001a811155,5e6758c4a8c7654cc553eb9f,5ba85a9d032d360001b83177,5ea0bddad95b720af8176b58,5badd3d7de6f4900019e4148,5c900d755c6c02001669786b,5bae3351a91ee200011a4220,56e99d054111eb000c77885b,5c3f0e1eef1d0d0001b2be26,5c0eb7a0e4ed910001c2f002,5e9acd8b84cdf4156368d73f,5cbf3b3330b52100182bbf89,5d2e5d1c649703001a9c920d,5ca87fb236a495001765efef,5c46dd7acb7a330001c5211e,5d206ec4a61f400016f9d3e1,5b26d02a8ecf3f0001618bff,5c4320001f0077000137a295,5aae93f5fb22320001baaaac,5c3fb75eca00d30001c5187d,5e9b4d1efab83b050f3bd741,5bd8822d1d0fed00018dcbfc,5bf3e74c61e3360001be1bf0,5ba683e58e137f000161a454,5db8ad1eaa674d000aec4f87,5eb175cb50f4320854a67dcf,5ea847efe83cc8252982feb4,5c43c8e35762d0000179894d,5d0f8633c8ca0c00155a49c2,5c251fdd17d86a00017d3c96,59edb00d16ecc200016ff9be,5ea36adfa9f5802f73c05208,5dc9a8c72e81ea87179e0f55,5b222aff59f9620001c109cb,5c2e82582fe63c0001c40448,5dc6d78cac77c74d18692044,5ea1ab6697b8d6074542f4a3\n"
     ]
    }
   ],
   "source": [
    "from utils_analysis import load_analysis\n",
    "\n",
    "analysis_type = 'workers'\n",
    "run = '4'\n",
    "exp_name = 'experiment2'\n",
    "batch = '*'\n",
    "\n",
    "whitelist = set()\n",
    "df = load_analysis(analysis_type, run, exp_name, batch)\n",
    "\n",
    "\n",
    "for ind, row in df.iterrows():\n",
    "    n_contradictions = row['n_contradictions']\n",
    "    n_fails = row['n_fails']\n",
    "    n_annotations = row['n_annotations']\n",
    "    if n_annotations > 30 and n_fails < 2 and n_contradictions <1:\n",
    "        whitelist.add(row['workerid'])\n",
    "\n",
    "print(f'# whitelist workers: {len(whitelist)}')\n",
    "print(','.join(whitelist))"
   ]
  },
  {
   "cell_type": "code",
   "execution_count": null,
   "metadata": {},
   "outputs": [],
   "source": []
  }
 ],
 "metadata": {
  "kernelspec": {
   "display_name": "Python 3",
   "language": "python",
   "name": "python3"
  },
  "language_info": {
   "codemirror_mode": {
    "name": "ipython",
    "version": 3
   },
   "file_extension": ".py",
   "mimetype": "text/x-python",
   "name": "python",
   "nbconvert_exporter": "python",
   "pygments_lexer": "ipython3",
   "version": "3.7.7"
  }
 },
 "nbformat": 4,
 "nbformat_minor": 4
}
