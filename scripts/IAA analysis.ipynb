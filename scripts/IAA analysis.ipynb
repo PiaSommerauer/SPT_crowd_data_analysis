{
 "cells": [
  {
   "cell_type": "code",
   "execution_count": 1,
   "metadata": {},
   "outputs": [],
   "source": [
    "from aggregate_labels import get_overview"
   ]
  },
  {
   "cell_type": "code",
   "execution_count": 2,
   "metadata": {
    "scrolled": false
   },
   "outputs": [
    {
     "name": "stdout",
     "output_type": "stream",
     "text": [
      "Discarded 0.0 annotations.\n",
      "Aggregated labels written to: ../aggregated_labels/annotation_filter-contradiction_outliers/aggregated_labels-run4-group_experiment2.csv\n"
     ]
    },
    {
     "name": "stderr",
     "output_type": "stream",
     "text": [
      "/Users/piasommerauer/anaconda3/lib/python3.7/site-packages/sklearn/metrics/classification.py:576: RuntimeWarning: invalid value encountered in true_divide\n",
      "  k = np.sum(w_mat * confusion) / np.sum(w_mat * expected)\n"
     ]
    },
    {
     "name": "stdout",
     "output_type": "stream",
     "text": [
      "Discarded 0.0 annotations.\n",
      "Aggregated labels written to: ../aggregated_labels/annotation_filter-worker_contradiction_rate_0/aggregated_labels-run4-group_experiment2.csv\n",
      "Discarded 0.0 annotations.\n",
      "Aggregated labels written to: ../aggregated_labels/annotation_filter-worker_contradiction_rate_above_av/aggregated_labels-run4-group_experiment2.csv\n",
      "Discarded 0.0 annotations.\n",
      "Aggregated labels written to: ../aggregated_labels/annotation_filter-worker_failed_checks_1/aggregated_labels-run4-group_experiment2.csv\n",
      "Discarded 0.0 annotations.\n",
      "Aggregated labels written to: ../aggregated_labels/annotation_filter-none/aggregated_labels-run4-group_experiment2.csv\n"
     ]
    }
   ],
   "source": [
    "run = '4'\n",
    "batch = '*'\n",
    "n_q = '*'\n",
    "group = 'experiment2'\n",
    "df = get_overview(run, batch, n_q, group)\n",
    "df"
   ]
  },
  {
   "cell_type": "code",
   "execution_count": 3,
   "metadata": {},
   "outputs": [
    {
     "data": {
      "text/html": [
       "<div>\n",
       "<style scoped>\n",
       "    .dataframe tbody tr th:only-of-type {\n",
       "        vertical-align: middle;\n",
       "    }\n",
       "\n",
       "    .dataframe tbody tr th {\n",
       "        vertical-align: top;\n",
       "    }\n",
       "\n",
       "    .dataframe thead th {\n",
       "        text-align: right;\n",
       "    }\n",
       "</style>\n",
       "<table border=\"1\" class=\"dataframe\">\n",
       "  <thead>\n",
       "    <tr style=\"text-align: right;\">\n",
       "      <th></th>\n",
       "      <th>Alpha_full</th>\n",
       "      <th>Alpha_levels</th>\n",
       "      <th>Kappa_full</th>\n",
       "      <th>Kappa_levels</th>\n",
       "      <th>filter</th>\n",
       "      <th>percent_clean</th>\n",
       "      <th>percent_pairs_cont</th>\n",
       "    </tr>\n",
       "  </thead>\n",
       "  <tbody>\n",
       "    <tr>\n",
       "      <th>0</th>\n",
       "      <td>0.297873</td>\n",
       "      <td>0.435383</td>\n",
       "      <td>0.146861</td>\n",
       "      <td>0.327766</td>\n",
       "      <td>contradiction_outliers</td>\n",
       "      <td>0.909420</td>\n",
       "      <td>0.0</td>\n",
       "    </tr>\n",
       "    <tr>\n",
       "      <th>1</th>\n",
       "      <td>0.454268</td>\n",
       "      <td>0.581129</td>\n",
       "      <td>0.266802</td>\n",
       "      <td>0.426415</td>\n",
       "      <td>worker_contradiction_rate_0</td>\n",
       "      <td>0.329232</td>\n",
       "      <td>0.0</td>\n",
       "    </tr>\n",
       "    <tr>\n",
       "      <th>2</th>\n",
       "      <td>0.384047</td>\n",
       "      <td>0.506273</td>\n",
       "      <td>0.191913</td>\n",
       "      <td>0.414689</td>\n",
       "      <td>worker_contradiction_rate_above_av</td>\n",
       "      <td>0.653397</td>\n",
       "      <td>0.0</td>\n",
       "    </tr>\n",
       "    <tr>\n",
       "      <th>3</th>\n",
       "      <td>0.277399</td>\n",
       "      <td>0.362049</td>\n",
       "      <td>0.157727</td>\n",
       "      <td>0.296654</td>\n",
       "      <td>worker_failed_checks_1</td>\n",
       "      <td>0.961534</td>\n",
       "      <td>0.0</td>\n",
       "    </tr>\n",
       "    <tr>\n",
       "      <th>4</th>\n",
       "      <td>0.263386</td>\n",
       "      <td>0.350653</td>\n",
       "      <td>0.138635</td>\n",
       "      <td>0.290850</td>\n",
       "      <td>none</td>\n",
       "      <td>1.000000</td>\n",
       "      <td>0.0</td>\n",
       "    </tr>\n",
       "  </tbody>\n",
       "</table>\n",
       "</div>"
      ],
      "text/plain": [
       "   Alpha_full  Alpha_levels  Kappa_full  Kappa_levels  \\\n",
       "0    0.297873      0.435383    0.146861      0.327766   \n",
       "1    0.454268      0.581129    0.266802      0.426415   \n",
       "2    0.384047      0.506273    0.191913      0.414689   \n",
       "3    0.277399      0.362049    0.157727      0.296654   \n",
       "4    0.263386      0.350653    0.138635      0.290850   \n",
       "\n",
       "                               filter  percent_clean  percent_pairs_cont  \n",
       "0              contradiction_outliers       0.909420                 0.0  \n",
       "1         worker_contradiction_rate_0       0.329232                 0.0  \n",
       "2  worker_contradiction_rate_above_av       0.653397                 0.0  \n",
       "3              worker_failed_checks_1       0.961534                 0.0  \n",
       "4                                none       1.000000                 0.0  "
      ]
     },
     "execution_count": 3,
     "metadata": {},
     "output_type": "execute_result"
    }
   ],
   "source": []
  },
  {
   "cell_type": "code",
   "execution_count": null,
   "metadata": {},
   "outputs": [
    {
     "name": "stdout",
     "output_type": "stream",
     "text": [
      "Discarded 655.0 annotations.\n",
      "Aggregated labels written to: ../aggregated_labels/annotation_filter-contradiction_outliers/aggregated_labels-run3-group_experiment1.csv\n"
     ]
    }
   ],
   "source": [
    "run = '3'\n",
    "batch = '*'\n",
    "n_q = '*'\n",
    "group = 'experiment1'\n",
    "df = get_overview(run, batch, n_q, group)\n",
    "df"
   ]
  },
  {
   "cell_type": "code",
   "execution_count": null,
   "metadata": {},
   "outputs": [],
   "source": []
  }
 ],
 "metadata": {
  "kernelspec": {
   "display_name": "Python 3",
   "language": "python",
   "name": "python3"
  },
  "language_info": {
   "codemirror_mode": {
    "name": "ipython",
    "version": 3
   },
   "file_extension": ".py",
   "mimetype": "text/x-python",
   "name": "python",
   "nbconvert_exporter": "python",
   "pygments_lexer": "ipython3",
   "version": "3.7.7"
  }
 },
 "nbformat": 4,
 "nbformat_minor": 4
}
