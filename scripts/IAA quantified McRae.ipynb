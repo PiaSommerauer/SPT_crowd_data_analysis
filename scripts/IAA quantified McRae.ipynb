{
 "cells": [
  {
   "cell_type": "code",
   "execution_count": 16,
   "metadata": {},
   "outputs": [
    {
     "name": "stdout",
     "output_type": "stream",
     "text": [
      "0.27468956721898596 0.5257911901153178\n"
     ]
    }
   ],
   "source": [
    "from nltk import agreement\n",
    "from calculate_iaa import proportional_agreement_pairs\n",
    "\n",
    "def load_mcrae():\n",
    "    matrix = []\n",
    "    c = 0\n",
    "    with open('../data/mcrae-quantified.txt') as infile:\n",
    "        for line in infile:\n",
    "            if not line.startswith('#') and '\\t' in line:\n",
    "                c += 1\n",
    "                row = line.strip().split('\\t')\n",
    "                pair = row[2]+'-'+row[1]\n",
    "                #print(line.strip())\n",
    "                annotations = row[3:]\n",
    "                for n, annotation in enumerate(annotations):\n",
    "                    #row = [worker, quid, answer]\n",
    "                    matrix_row = [n, pair, annotation]\n",
    "                    matrix.append(matrix_row)\n",
    "    \n",
    "    return matrix  \n",
    "\n",
    "matrix = load_mcrae()\n",
    "ratingtask = agreement.AnnotationTask(data=matrix)\n",
    "alpha = ratingtask.alpha()\n",
    "prop = proportional_agreement_pairs(matrix)\n",
    "print(alpha, prop)"
   ]
  },
  {
   "cell_type": "code",
   "execution_count": null,
   "metadata": {},
   "outputs": [],
   "source": []
  }
 ],
 "metadata": {
  "kernelspec": {
   "display_name": "Python 3",
   "language": "python",
   "name": "python3"
  },
  "language_info": {
   "codemirror_mode": {
    "name": "ipython",
    "version": 3
   },
   "file_extension": ".py",
   "mimetype": "text/x-python",
   "name": "python",
   "nbconvert_exporter": "python",
   "pygments_lexer": "ipython3",
   "version": "3.7.7"
  }
 },
 "nbformat": 4,
 "nbformat_minor": 4
}
