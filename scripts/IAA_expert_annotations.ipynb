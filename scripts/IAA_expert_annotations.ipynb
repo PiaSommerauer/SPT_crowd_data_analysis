{
 "cells": [
  {
   "cell_type": "code",
   "execution_count": 2,
   "metadata": {},
   "outputs": [],
   "source": [
    "from load_data import load_expert_data\n",
    "from load_data import load_experiment_data\n",
    "from utils_analysis import load_analysis\n",
    "from utils_analysis import sort_by_key\n",
    "#from aggregate_labels import get_top_labels\n",
    "from analyze_workers import get_worker_analysis\n",
    "from calculate_iaa import get_agreement, get_kappa_pairs\n",
    "from calculate_iaa import create_matrix\n",
    "from calculate_iaa import get_full_report\n",
    "\n",
    "import csv"
   ]
  },
  {
   "cell_type": "code",
   "execution_count": 24,
   "metadata": {},
   "outputs": [],
   "source": [
    "def get_disagreements(data_dict_list):\n",
    "    report_rows_disagreement = []\n",
    "    report_rows_agreement = []\n",
    "    data_by_pair  = sort_by_key(data_dict_list, ['property', 'concept'])\n",
    "    for pair, dicts in data_by_pair.items():\n",
    "\n",
    "        relation_dicts = sort_by_key(dicts, ['relation'])\n",
    "        for rel, dicts in relation_dicts.items():\n",
    "            question = dicts[0]['description']\n",
    "            answers = set(d['answer'] for d in dicts if d['workerid'])\n",
    "            for d in dicts:\n",
    "                row_d = dict()\n",
    "                row_d['triple'] = rel+'-'+pair+' '+question\n",
    "                row_d['worker'] = d['workerid']\n",
    "                row_d['answer'] = d['answer']\n",
    "                #print(pair, rel, '\\t', d['workerid'], d['answer'])\n",
    "                if len(answers) != 1:\n",
    "                    report_rows_disagreement.append(row_d)\n",
    "                else:\n",
    "                    report_rows_agreement.append(row_d)\n",
    "    return report_rows_disagreement, report_rows_agreement\n",
    "                \n",
    "def report_to_file(group, rows, report_type):\n",
    "    header = rows[0].keys()\n",
    "    path = f'../analyses/expert_annotations/report_{group}_{report_type}.csv'\n",
    "    with open(path, 'w') as outfile:\n",
    "        writer = csv.DictWriter(outfile, fieldnames = header)\n",
    "        writer.writeheader()\n",
    "        for r in rows:\n",
    "            writer.writerow(r)\n",
    "    print(f'Report written to {path}')"
   ]
  },
  {
   "cell_type": "markdown",
   "metadata": {},
   "source": [
    "# Load set "
   ]
  },
  {
   "cell_type": "code",
   "execution_count": 25,
   "metadata": {},
   "outputs": [
    {
     "name": "stdout",
     "output_type": "stream",
     "text": [
      "Discarded 0.0 annotations.\n"
     ]
    }
   ],
   "source": [
    "\n",
    "run = 4\n",
    "group = 'expert_inspection1'\n",
    "n_q = '*'\n",
    "batch = '*'\n",
    "data_dict_list = load_expert_data(run, group, n_q, batch)"
   ]
  },
  {
   "cell_type": "markdown",
   "metadata": {},
   "source": [
    "# Show worker overview"
   ]
  },
  {
   "cell_type": "code",
   "execution_count": 26,
   "metadata": {},
   "outputs": [
    {
     "data": {
      "text/html": [
       "<div>\n",
       "<style scoped>\n",
       "    .dataframe tbody tr th:only-of-type {\n",
       "        vertical-align: middle;\n",
       "    }\n",
       "\n",
       "    .dataframe tbody tr th {\n",
       "        vertical-align: top;\n",
       "    }\n",
       "\n",
       "    .dataframe thead th {\n",
       "        text-align: right;\n",
       "    }\n",
       "</style>\n",
       "<table border=\"1\" class=\"dataframe\">\n",
       "  <thead>\n",
       "    <tr style=\"text-align: right;\">\n",
       "      <th></th>\n",
       "      <th>workerid</th>\n",
       "      <th>contradiction_poss_contradiction_ratio</th>\n",
       "      <th>n_contradictions</th>\n",
       "      <th>n_fails</th>\n",
       "      <th>n_annotations</th>\n",
       "    </tr>\n",
       "  </thead>\n",
       "  <tbody>\n",
       "    <tr>\n",
       "      <th>0</th>\n",
       "      <td>antske_run1b</td>\n",
       "      <td>0.0</td>\n",
       "      <td>0</td>\n",
       "      <td>0</td>\n",
       "      <td>30</td>\n",
       "    </tr>\n",
       "    <tr>\n",
       "      <th>1</th>\n",
       "      <td>pia run 1</td>\n",
       "      <td>0.0</td>\n",
       "      <td>0</td>\n",
       "      <td>0</td>\n",
       "      <td>30</td>\n",
       "    </tr>\n",
       "    <tr>\n",
       "      <th>2</th>\n",
       "      <td>Piek run-1</td>\n",
       "      <td>0.0</td>\n",
       "      <td>0</td>\n",
       "      <td>0</td>\n",
       "      <td>30</td>\n",
       "    </tr>\n",
       "    <tr>\n",
       "      <th>3</th>\n",
       "      <td>antske_run1</td>\n",
       "      <td>0.0</td>\n",
       "      <td>0</td>\n",
       "      <td>0</td>\n",
       "      <td>5</td>\n",
       "    </tr>\n",
       "  </tbody>\n",
       "</table>\n",
       "</div>"
      ],
      "text/plain": [
       "       workerid  contradiction_poss_contradiction_ratio  n_contradictions  \\\n",
       "0  antske_run1b                                     0.0                 0   \n",
       "1     pia run 1                                     0.0                 0   \n",
       "2    Piek run-1                                     0.0                 0   \n",
       "3   antske_run1                                     0.0                 0   \n",
       "\n",
       "   n_fails  n_annotations  \n",
       "0        0             30  \n",
       "1        0             30  \n",
       "2        0             30  \n",
       "3        0              5  "
      ]
     },
     "execution_count": 26,
     "metadata": {},
     "output_type": "execute_result"
    }
   ],
   "source": [
    "name = f'run{run}-group_{group}-batch{batch}'.replace('*', '-all-')\n",
    "df, filepath = get_worker_analysis(data_dict_list, name)\n",
    "df.drop(['annotations'], axis = 1, inplace=True)\n",
    "df[['workerid', 'contradiction_poss_contradiction_ratio',\n",
    "    'n_contradictions', 'n_fails', 'n_annotations']]"
   ]
  },
  {
   "cell_type": "markdown",
   "metadata": {},
   "source": [
    "# Agreement overview"
   ]
  },
  {
   "cell_type": "code",
   "execution_count": 27,
   "metadata": {
    "scrolled": true
   },
   "outputs": [
    {
     "name": "stdout",
     "output_type": "stream",
     "text": [
      "full\n",
      "Krippendorff 0.6777142857142857\n",
      "Proportional 0.8722222222222221\n",
      "Av_Cohens_kappa 0.6258697087731723\n",
      "\n",
      "pos_neg\n",
      "Krippendorff 1.0\n",
      "Proportional 1.0\n",
      "Av_Cohens_kappa 1.0\n",
      "\n",
      "levels\n",
      "Krippendorff 1.0\n",
      "Proportional 0.8\n",
      "Av_Cohens_kappa 1.0\n",
      "\n",
      "similar_relations\n",
      "Krippendorff 0.7082228116710876\n",
      "Proportional 0.6666666666666666\n",
      "Av_Cohens_kappa 0.790909090909091\n",
      "\n"
     ]
    }
   ],
   "source": [
    "# Agreement collapsed\n",
    "\n",
    "full_report = get_full_report(data_dict_list)\n",
    "for collapsed_set, scores in full_report.items():\n",
    "    print(collapsed_set)\n",
    "    for n, s in scores.items():\n",
    "        print(n, s)\n",
    "    print()"
   ]
  },
  {
   "cell_type": "markdown",
   "metadata": {},
   "source": [
    "## Agreement by annotator pair"
   ]
  },
  {
   "cell_type": "code",
   "execution_count": 28,
   "metadata": {},
   "outputs": [
    {
     "name": "stdout",
     "output_type": "stream",
     "text": [
      "('pia run 1', 'antske_run1b') 0.6273291925465838\n",
      "('antske_run1', 'antske_run1b') 0.5454545454545454\n",
      "('antske_run1', 'pia run 1') 0.5454545454545454\n",
      "('antske_run1b', 'Piek run-1') 0.8305084745762712\n",
      "('pia run 1', 'Piek run-1') 0.6610169491525424\n",
      "('antske_run1', 'Piek run-1') 0.5454545454545454\n"
     ]
    }
   ],
   "source": [
    "\n",
    "matrix = create_matrix(data_dict_list)\n",
    "pair_kappa_dict = get_kappa_pairs(matrix)\n",
    "\n",
    "for pair, k in pair_kappa_dict.items():\n",
    "    \n",
    "    print(pair, k)"
   ]
  },
  {
   "cell_type": "markdown",
   "metadata": {},
   "source": [
    "# (Dis)agreements to file"
   ]
  },
  {
   "cell_type": "code",
   "execution_count": 29,
   "metadata": {
    "scrolled": true
   },
   "outputs": [
    {
     "name": "stdout",
     "output_type": "stream",
     "text": [
      "Report written to ../analyses/expert_annotations/report_expert_inspection1_disagree.csv\n",
      "Report written to ../analyses/expert_annotations/report_expert_inspection1_agree.csv\n"
     ]
    }
   ],
   "source": [
    "rows_disagree, rows_agree = get_disagreements(data_dict_list)\n",
    "report_to_file(group, rows_disagree, 'disagree')\n",
    "report_to_file(group, rows_agree, 'agree')"
   ]
  },
  {
   "cell_type": "code",
   "execution_count": 9,
   "metadata": {},
   "outputs": [],
   "source": [
    "\n",
    "            \n",
    "        \n"
   ]
  },
  {
   "cell_type": "code",
   "execution_count": null,
   "metadata": {},
   "outputs": [],
   "source": []
  }
 ],
 "metadata": {
  "kernelspec": {
   "display_name": "Python 3",
   "language": "python",
   "name": "python3"
  },
  "language_info": {
   "codemirror_mode": {
    "name": "ipython",
    "version": 3
   },
   "file_extension": ".py",
   "mimetype": "text/x-python",
   "name": "python",
   "nbconvert_exporter": "python",
   "pygments_lexer": "ipython3",
   "version": "3.7.7"
  }
 },
 "nbformat": 4,
 "nbformat_minor": 4
}
