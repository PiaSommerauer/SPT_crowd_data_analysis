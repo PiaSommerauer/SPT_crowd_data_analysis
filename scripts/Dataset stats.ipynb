{
 "cells": [
  {
   "cell_type": "code",
   "execution_count": 12,
   "metadata": {},
   "outputs": [],
   "source": [
    "from load_data import load_experiment_data\n",
    "from utils_analysis import sort_by_key\n",
    "from aggregate_labels import aggregate_labels\n",
    "\n",
    "from collections import defaultdict"
   ]
  },
  {
   "cell_type": "code",
   "execution_count": 13,
   "metadata": {},
   "outputs": [
    {
     "name": "stdout",
     "output_type": "stream",
     "text": [
      "Discarded 655.0 annotations.\n"
     ]
    }
   ],
   "source": [
    "run = '*'\n",
    "batch = '*'\n",
    "n_q = '*'\n",
    "group = '*'\n",
    "\n",
    "data_dict_list = load_experiment_data(run, group, n_q, batch, remove_not_val = True)\n",
    "name = f'run{run}-group_{group}-batch{batch}'.replace('*', '-all-')\n",
    "#df, filepath = get_worker_analysis(data_dict_list, name)\n",
    "#df.drop(['annotations'], axis = 1, inplace=True)\n",
    "#df[['workerid', 'contradiction_poss_contradiction_ratio', 'n_contradictions', 'n_fails', 'n_annotations']]"
   ]
  },
  {
   "cell_type": "code",
   "execution_count": 14,
   "metadata": {},
   "outputs": [],
   "source": [
    "labels_ag = aggregate_labels(data_dict_list)\n",
    "data_by_pairs = sort_by_key(labels_ag, ['pair'])"
   ]
  },
  {
   "cell_type": "code",
   "execution_count": null,
   "metadata": {},
   "outputs": [],
   "source": []
  },
  {
   "cell_type": "code",
   "execution_count": null,
   "metadata": {},
   "outputs": [],
   "source": []
  },
  {
   "cell_type": "code",
   "execution_count": 15,
   "metadata": {},
   "outputs": [
    {
     "name": "stdout",
     "output_type": "stream",
     "text": [
      "Total number of pairs: 899\n",
      "square 40\n",
      "dangerous 48\n",
      "hot 47\n",
      "lay_eggs 48\n",
      "black 48\n",
      "yellow 37\n",
      "sweet 52\n",
      "made_of_wood 44\n",
      "fly 48\n",
      "wheels 43\n",
      "roll 120\n",
      "red 174\n",
      "round 140\n"
     ]
    }
   ],
   "source": [
    "pair_concepts_dict = defaultdict(dict)\n",
    "print(f'Total number of pairs: {len(data_by_pairs)}')\n",
    "for pair, data in data_by_pairs.items():\n",
    "    p, c = pair.split('-')\n",
    "    if not p.startswith('_'):\n",
    "        data_dict = data[0]\n",
    "        pair_concepts_dict[p][c] = data_dict['levels']\n",
    "for p, concepts in pair_concepts_dict.items():\n",
    "    print(p, len(concepts))\n",
    "    label_dict = defaultdict(set)\n",
    "    for c, l in concepts.items():\n",
    "        if l != '':\n",
    "            label_dict[l].add(c)\n",
    "        else:\n",
    "            label_dict['no_majority'].add(c)\n",
    "   # for l, concepts in label_dict.items():\n",
    "    #    print(l, len(concepts))\n",
    "    #print('-----')\n",
    "        "
   ]
  },
  {
   "cell_type": "code",
   "execution_count": null,
   "metadata": {},
   "outputs": [],
   "source": []
  }
 ],
 "metadata": {
  "kernelspec": {
   "display_name": "Python 3",
   "language": "python",
   "name": "python3"
  },
  "language_info": {
   "codemirror_mode": {
    "name": "ipython",
    "version": 3
   },
   "file_extension": ".py",
   "mimetype": "text/x-python",
   "name": "python",
   "nbconvert_exporter": "python",
   "pygments_lexer": "ipython3",
   "version": "3.7.7"
  }
 },
 "nbformat": 4,
 "nbformat_minor": 4
}
